{
 "cells": [
  {
   "cell_type": "code",
   "execution_count": 3,
   "id": "1e809c0b",
   "metadata": {},
   "outputs": [],
   "source": [
    "import pandas as pd\n",
    "import numpy as np\n",
    "import matplotlib.pyplot as plt\n",
    "import seaborn as sns\n",
    "import plotly.express as px"
   ]
  },
  {
   "cell_type": "code",
   "execution_count": 4,
   "id": "1bc82fb2",
   "metadata": {},
   "outputs": [],
   "source": [
    "df_companies = pd.read_csv('Unicorn_Companies.csv')"
   ]
  },
  {
   "cell_type": "code",
   "execution_count": 5,
   "id": "30dd2ea9",
   "metadata": {},
   "outputs": [
    {
     "data": {
      "text/plain": [
       "(1074, 10)"
      ]
     },
     "execution_count": 5,
     "metadata": {},
     "output_type": "execute_result"
    }
   ],
   "source": [
    "df_companies.shape"
   ]
  },
  {
   "cell_type": "code",
   "execution_count": 6,
   "id": "b65cf68f",
   "metadata": {},
   "outputs": [
    {
     "data": {
      "text/html": [
       "<div>\n",
       "<style scoped>\n",
       "    .dataframe tbody tr th:only-of-type {\n",
       "        vertical-align: middle;\n",
       "    }\n",
       "\n",
       "    .dataframe tbody tr th {\n",
       "        vertical-align: top;\n",
       "    }\n",
       "\n",
       "    .dataframe thead th {\n",
       "        text-align: right;\n",
       "    }\n",
       "</style>\n",
       "<table border=\"1\" class=\"dataframe\">\n",
       "  <thead>\n",
       "    <tr style=\"text-align: right;\">\n",
       "      <th></th>\n",
       "      <th>Company</th>\n",
       "      <th>Valuation</th>\n",
       "      <th>Date Joined</th>\n",
       "      <th>Industry</th>\n",
       "      <th>City</th>\n",
       "      <th>Country/Region</th>\n",
       "      <th>Continent</th>\n",
       "      <th>Year Founded</th>\n",
       "      <th>Funding</th>\n",
       "      <th>Select Investors</th>\n",
       "    </tr>\n",
       "  </thead>\n",
       "  <tbody>\n",
       "    <tr>\n",
       "      <th>0</th>\n",
       "      <td>Bytedance</td>\n",
       "      <td>$180B</td>\n",
       "      <td>4/7/17</td>\n",
       "      <td>Artificial intelligence</td>\n",
       "      <td>Beijing</td>\n",
       "      <td>China</td>\n",
       "      <td>Asia</td>\n",
       "      <td>2012</td>\n",
       "      <td>$8B</td>\n",
       "      <td>Sequoia Capital China, SIG Asia Investments, S...</td>\n",
       "    </tr>\n",
       "    <tr>\n",
       "      <th>1</th>\n",
       "      <td>SpaceX</td>\n",
       "      <td>$100B</td>\n",
       "      <td>12/1/12</td>\n",
       "      <td>Other</td>\n",
       "      <td>Hawthorne</td>\n",
       "      <td>United States</td>\n",
       "      <td>North America</td>\n",
       "      <td>2002</td>\n",
       "      <td>$7B</td>\n",
       "      <td>Founders Fund, Draper Fisher Jurvetson, Rothen...</td>\n",
       "    </tr>\n",
       "    <tr>\n",
       "      <th>2</th>\n",
       "      <td>SHEIN</td>\n",
       "      <td>$100B</td>\n",
       "      <td>7/3/18</td>\n",
       "      <td>E-commerce &amp; direct-to-consumer</td>\n",
       "      <td>Shenzhen</td>\n",
       "      <td>China</td>\n",
       "      <td>Asia</td>\n",
       "      <td>2008</td>\n",
       "      <td>$2B</td>\n",
       "      <td>Tiger Global Management, Sequoia Capital China...</td>\n",
       "    </tr>\n",
       "    <tr>\n",
       "      <th>3</th>\n",
       "      <td>Stripe</td>\n",
       "      <td>$95B</td>\n",
       "      <td>1/23/14</td>\n",
       "      <td>Fintech</td>\n",
       "      <td>San Francisco</td>\n",
       "      <td>United States</td>\n",
       "      <td>North America</td>\n",
       "      <td>2010</td>\n",
       "      <td>$2B</td>\n",
       "      <td>Khosla Ventures, LowercaseCapital, capitalG</td>\n",
       "    </tr>\n",
       "    <tr>\n",
       "      <th>4</th>\n",
       "      <td>Klarna</td>\n",
       "      <td>$46B</td>\n",
       "      <td>12/12/11</td>\n",
       "      <td>Fintech</td>\n",
       "      <td>Stockholm</td>\n",
       "      <td>Sweden</td>\n",
       "      <td>Europe</td>\n",
       "      <td>2005</td>\n",
       "      <td>$4B</td>\n",
       "      <td>Institutional Venture Partners, Sequoia Capita...</td>\n",
       "    </tr>\n",
       "    <tr>\n",
       "      <th>5</th>\n",
       "      <td>Canva</td>\n",
       "      <td>$40B</td>\n",
       "      <td>1/8/18</td>\n",
       "      <td>Internet software &amp; services</td>\n",
       "      <td>Surry Hills</td>\n",
       "      <td>Australia</td>\n",
       "      <td>Oceania</td>\n",
       "      <td>2012</td>\n",
       "      <td>$572M</td>\n",
       "      <td>Sequoia Capital China, Blackbird Ventures, Mat...</td>\n",
       "    </tr>\n",
       "    <tr>\n",
       "      <th>6</th>\n",
       "      <td>Checkout.com</td>\n",
       "      <td>$40B</td>\n",
       "      <td>5/2/19</td>\n",
       "      <td>Fintech</td>\n",
       "      <td>London</td>\n",
       "      <td>United Kingdom</td>\n",
       "      <td>Europe</td>\n",
       "      <td>2012</td>\n",
       "      <td>$2B</td>\n",
       "      <td>Tiger Global Management, Insight Partners, DST...</td>\n",
       "    </tr>\n",
       "    <tr>\n",
       "      <th>7</th>\n",
       "      <td>Instacart</td>\n",
       "      <td>$39B</td>\n",
       "      <td>12/30/14</td>\n",
       "      <td>Supply chain, logistics, &amp; delivery</td>\n",
       "      <td>San Francisco</td>\n",
       "      <td>United States</td>\n",
       "      <td>North America</td>\n",
       "      <td>2012</td>\n",
       "      <td>$3B</td>\n",
       "      <td>Khosla Ventures, Kleiner Perkins Caufield &amp; By...</td>\n",
       "    </tr>\n",
       "    <tr>\n",
       "      <th>8</th>\n",
       "      <td>JUUL Labs</td>\n",
       "      <td>$38B</td>\n",
       "      <td>12/20/17</td>\n",
       "      <td>Consumer &amp; retail</td>\n",
       "      <td>San Francisco</td>\n",
       "      <td>United States</td>\n",
       "      <td>North America</td>\n",
       "      <td>2015</td>\n",
       "      <td>$14B</td>\n",
       "      <td>Tiger Global Management</td>\n",
       "    </tr>\n",
       "    <tr>\n",
       "      <th>9</th>\n",
       "      <td>Databricks</td>\n",
       "      <td>$38B</td>\n",
       "      <td>2/5/19</td>\n",
       "      <td>Data management &amp; analytics</td>\n",
       "      <td>San Francisco</td>\n",
       "      <td>United States</td>\n",
       "      <td>North America</td>\n",
       "      <td>2013</td>\n",
       "      <td>$3B</td>\n",
       "      <td>Andreessen Horowitz, New Enterprise Associates...</td>\n",
       "    </tr>\n",
       "  </tbody>\n",
       "</table>\n",
       "</div>"
      ],
      "text/plain": [
       "        Company Valuation Date Joined                             Industry  \\\n",
       "0     Bytedance     $180B      4/7/17              Artificial intelligence   \n",
       "1        SpaceX     $100B     12/1/12                                Other   \n",
       "2         SHEIN     $100B      7/3/18      E-commerce & direct-to-consumer   \n",
       "3        Stripe      $95B     1/23/14                              Fintech   \n",
       "4        Klarna      $46B    12/12/11                              Fintech   \n",
       "5         Canva      $40B      1/8/18         Internet software & services   \n",
       "6  Checkout.com      $40B      5/2/19                              Fintech   \n",
       "7     Instacart      $39B    12/30/14  Supply chain, logistics, & delivery   \n",
       "8     JUUL Labs      $38B    12/20/17                    Consumer & retail   \n",
       "9    Databricks      $38B      2/5/19          Data management & analytics   \n",
       "\n",
       "            City  Country/Region      Continent  Year Founded Funding  \\\n",
       "0        Beijing           China           Asia          2012     $8B   \n",
       "1      Hawthorne   United States  North America          2002     $7B   \n",
       "2       Shenzhen           China           Asia          2008     $2B   \n",
       "3  San Francisco   United States  North America          2010     $2B   \n",
       "4      Stockholm          Sweden         Europe          2005     $4B   \n",
       "5    Surry Hills       Australia        Oceania          2012   $572M   \n",
       "6         London  United Kingdom         Europe          2012     $2B   \n",
       "7  San Francisco   United States  North America          2012     $3B   \n",
       "8  San Francisco   United States  North America          2015    $14B   \n",
       "9  San Francisco   United States  North America          2013     $3B   \n",
       "\n",
       "                                    Select Investors  \n",
       "0  Sequoia Capital China, SIG Asia Investments, S...  \n",
       "1  Founders Fund, Draper Fisher Jurvetson, Rothen...  \n",
       "2  Tiger Global Management, Sequoia Capital China...  \n",
       "3        Khosla Ventures, LowercaseCapital, capitalG  \n",
       "4  Institutional Venture Partners, Sequoia Capita...  \n",
       "5  Sequoia Capital China, Blackbird Ventures, Mat...  \n",
       "6  Tiger Global Management, Insight Partners, DST...  \n",
       "7  Khosla Ventures, Kleiner Perkins Caufield & By...  \n",
       "8                            Tiger Global Management  \n",
       "9  Andreessen Horowitz, New Enterprise Associates...  "
      ]
     },
     "execution_count": 6,
     "metadata": {},
     "output_type": "execute_result"
    }
   ],
   "source": [
    "df_companies.head(10)"
   ]
  },
  {
   "cell_type": "code",
   "execution_count": 7,
   "id": "33b7e012",
   "metadata": {},
   "outputs": [
    {
     "name": "stdout",
     "output_type": "stream",
     "text": [
      "<class 'pandas.core.frame.DataFrame'>\n",
      "RangeIndex: 1074 entries, 0 to 1073\n",
      "Data columns (total 10 columns):\n",
      " #   Column            Non-Null Count  Dtype \n",
      "---  ------            --------------  ----- \n",
      " 0   Company           1074 non-null   object\n",
      " 1   Valuation         1074 non-null   object\n",
      " 2   Date Joined       1074 non-null   object\n",
      " 3   Industry          1074 non-null   object\n",
      " 4   City              1058 non-null   object\n",
      " 5   Country/Region    1074 non-null   object\n",
      " 6   Continent         1074 non-null   object\n",
      " 7   Year Founded      1074 non-null   int64 \n",
      " 8   Funding           1074 non-null   object\n",
      " 9   Select Investors  1073 non-null   object\n",
      "dtypes: int64(1), object(9)\n",
      "memory usage: 84.0+ KB\n"
     ]
    }
   ],
   "source": [
    "df_companies.info()"
   ]
  },
  {
   "cell_type": "code",
   "execution_count": 8,
   "id": "46150abc",
   "metadata": {},
   "outputs": [
    {
     "data": {
      "text/html": [
       "<div>\n",
       "<style scoped>\n",
       "    .dataframe tbody tr th:only-of-type {\n",
       "        vertical-align: middle;\n",
       "    }\n",
       "\n",
       "    .dataframe tbody tr th {\n",
       "        vertical-align: top;\n",
       "    }\n",
       "\n",
       "    .dataframe thead th {\n",
       "        text-align: right;\n",
       "    }\n",
       "</style>\n",
       "<table border=\"1\" class=\"dataframe\">\n",
       "  <thead>\n",
       "    <tr style=\"text-align: right;\">\n",
       "      <th></th>\n",
       "      <th>Year Founded</th>\n",
       "    </tr>\n",
       "  </thead>\n",
       "  <tbody>\n",
       "    <tr>\n",
       "      <th>count</th>\n",
       "      <td>1074.000000</td>\n",
       "    </tr>\n",
       "    <tr>\n",
       "      <th>mean</th>\n",
       "      <td>2012.895717</td>\n",
       "    </tr>\n",
       "    <tr>\n",
       "      <th>std</th>\n",
       "      <td>5.698573</td>\n",
       "    </tr>\n",
       "    <tr>\n",
       "      <th>min</th>\n",
       "      <td>1919.000000</td>\n",
       "    </tr>\n",
       "    <tr>\n",
       "      <th>25%</th>\n",
       "      <td>2011.000000</td>\n",
       "    </tr>\n",
       "    <tr>\n",
       "      <th>50%</th>\n",
       "      <td>2014.000000</td>\n",
       "    </tr>\n",
       "    <tr>\n",
       "      <th>75%</th>\n",
       "      <td>2016.000000</td>\n",
       "    </tr>\n",
       "    <tr>\n",
       "      <th>max</th>\n",
       "      <td>2021.000000</td>\n",
       "    </tr>\n",
       "  </tbody>\n",
       "</table>\n",
       "</div>"
      ],
      "text/plain": [
       "       Year Founded\n",
       "count   1074.000000\n",
       "mean    2012.895717\n",
       "std        5.698573\n",
       "min     1919.000000\n",
       "25%     2011.000000\n",
       "50%     2014.000000\n",
       "75%     2016.000000\n",
       "max     2021.000000"
      ]
     },
     "execution_count": 8,
     "metadata": {},
     "output_type": "execute_result"
    }
   ],
   "source": [
    "df_companies.describe()"
   ]
  },
  {
   "cell_type": "code",
   "execution_count": 11,
   "id": "e685ec6b",
   "metadata": {},
   "outputs": [
    {
     "name": "stderr",
     "output_type": "stream",
     "text": [
      "C:\\Users\\tomar\\AppData\\Local\\Temp\\ipykernel_2552\\1592403167.py:1: UserWarning: Could not infer format, so each element will be parsed individually, falling back to `dateutil`. To ensure parsing is consistent and as-expected, please specify a format.\n",
      "  df_companies['Year Joined'] = pd.to_datetime(df_companies['Date Joined']).dt.year\n"
     ]
    },
    {
     "data": {
      "text/html": [
       "<div>\n",
       "<style scoped>\n",
       "    .dataframe tbody tr th:only-of-type {\n",
       "        vertical-align: middle;\n",
       "    }\n",
       "\n",
       "    .dataframe tbody tr th {\n",
       "        vertical-align: top;\n",
       "    }\n",
       "\n",
       "    .dataframe thead th {\n",
       "        text-align: right;\n",
       "    }\n",
       "</style>\n",
       "<table border=\"1\" class=\"dataframe\">\n",
       "  <thead>\n",
       "    <tr style=\"text-align: right;\">\n",
       "      <th></th>\n",
       "      <th>Company</th>\n",
       "      <th>Valuation</th>\n",
       "      <th>Date Joined</th>\n",
       "      <th>Industry</th>\n",
       "      <th>City</th>\n",
       "      <th>Country/Region</th>\n",
       "      <th>Continent</th>\n",
       "      <th>Year Founded</th>\n",
       "      <th>Funding</th>\n",
       "      <th>Select Investors</th>\n",
       "      <th>Year Joined</th>\n",
       "    </tr>\n",
       "  </thead>\n",
       "  <tbody>\n",
       "    <tr>\n",
       "      <th>0</th>\n",
       "      <td>Bytedance</td>\n",
       "      <td>$180B</td>\n",
       "      <td>4/7/17</td>\n",
       "      <td>Artificial intelligence</td>\n",
       "      <td>Beijing</td>\n",
       "      <td>China</td>\n",
       "      <td>Asia</td>\n",
       "      <td>2012</td>\n",
       "      <td>$8B</td>\n",
       "      <td>Sequoia Capital China, SIG Asia Investments, S...</td>\n",
       "      <td>2017</td>\n",
       "    </tr>\n",
       "    <tr>\n",
       "      <th>1</th>\n",
       "      <td>SpaceX</td>\n",
       "      <td>$100B</td>\n",
       "      <td>12/1/12</td>\n",
       "      <td>Other</td>\n",
       "      <td>Hawthorne</td>\n",
       "      <td>United States</td>\n",
       "      <td>North America</td>\n",
       "      <td>2002</td>\n",
       "      <td>$7B</td>\n",
       "      <td>Founders Fund, Draper Fisher Jurvetson, Rothen...</td>\n",
       "      <td>2012</td>\n",
       "    </tr>\n",
       "    <tr>\n",
       "      <th>2</th>\n",
       "      <td>SHEIN</td>\n",
       "      <td>$100B</td>\n",
       "      <td>7/3/18</td>\n",
       "      <td>E-commerce &amp; direct-to-consumer</td>\n",
       "      <td>Shenzhen</td>\n",
       "      <td>China</td>\n",
       "      <td>Asia</td>\n",
       "      <td>2008</td>\n",
       "      <td>$2B</td>\n",
       "      <td>Tiger Global Management, Sequoia Capital China...</td>\n",
       "      <td>2018</td>\n",
       "    </tr>\n",
       "    <tr>\n",
       "      <th>3</th>\n",
       "      <td>Stripe</td>\n",
       "      <td>$95B</td>\n",
       "      <td>1/23/14</td>\n",
       "      <td>Fintech</td>\n",
       "      <td>San Francisco</td>\n",
       "      <td>United States</td>\n",
       "      <td>North America</td>\n",
       "      <td>2010</td>\n",
       "      <td>$2B</td>\n",
       "      <td>Khosla Ventures, LowercaseCapital, capitalG</td>\n",
       "      <td>2014</td>\n",
       "    </tr>\n",
       "    <tr>\n",
       "      <th>4</th>\n",
       "      <td>Klarna</td>\n",
       "      <td>$46B</td>\n",
       "      <td>12/12/11</td>\n",
       "      <td>Fintech</td>\n",
       "      <td>Stockholm</td>\n",
       "      <td>Sweden</td>\n",
       "      <td>Europe</td>\n",
       "      <td>2005</td>\n",
       "      <td>$4B</td>\n",
       "      <td>Institutional Venture Partners, Sequoia Capita...</td>\n",
       "      <td>2011</td>\n",
       "    </tr>\n",
       "  </tbody>\n",
       "</table>\n",
       "</div>"
      ],
      "text/plain": [
       "     Company Valuation Date Joined                         Industry  \\\n",
       "0  Bytedance     $180B      4/7/17          Artificial intelligence   \n",
       "1     SpaceX     $100B     12/1/12                            Other   \n",
       "2      SHEIN     $100B      7/3/18  E-commerce & direct-to-consumer   \n",
       "3     Stripe      $95B     1/23/14                          Fintech   \n",
       "4     Klarna      $46B    12/12/11                          Fintech   \n",
       "\n",
       "            City Country/Region      Continent  Year Founded Funding  \\\n",
       "0        Beijing          China           Asia          2012     $8B   \n",
       "1      Hawthorne  United States  North America          2002     $7B   \n",
       "2       Shenzhen          China           Asia          2008     $2B   \n",
       "3  San Francisco  United States  North America          2010     $2B   \n",
       "4      Stockholm         Sweden         Europe          2005     $4B   \n",
       "\n",
       "                                    Select Investors  Year Joined  \n",
       "0  Sequoia Capital China, SIG Asia Investments, S...         2017  \n",
       "1  Founders Fund, Draper Fisher Jurvetson, Rothen...         2012  \n",
       "2  Tiger Global Management, Sequoia Capital China...         2018  \n",
       "3        Khosla Ventures, LowercaseCapital, capitalG         2014  \n",
       "4  Institutional Venture Partners, Sequoia Capita...         2011  "
      ]
     },
     "execution_count": 11,
     "metadata": {},
     "output_type": "execute_result"
    }
   ],
   "source": [
    "df_companies['Year Joined'] = pd.to_datetime(df_companies['Date Joined']).dt.year\n",
    "df_companies.head()"
   ]
  },
  {
   "cell_type": "code",
   "execution_count": 12,
   "id": "5a8917e1",
   "metadata": {},
   "outputs": [],
   "source": [
    "def str_to_num(x):\n",
    "    x = x.strip('$B')\n",
    "    x = int(x)\n",
    "    \n",
    "    return x"
   ]
  },
  {
   "cell_type": "code",
   "execution_count": 13,
   "id": "9d8eeeec",
   "metadata": {},
   "outputs": [
    {
     "data": {
      "text/html": [
       "<div>\n",
       "<style scoped>\n",
       "    .dataframe tbody tr th:only-of-type {\n",
       "        vertical-align: middle;\n",
       "    }\n",
       "\n",
       "    .dataframe tbody tr th {\n",
       "        vertical-align: top;\n",
       "    }\n",
       "\n",
       "    .dataframe thead th {\n",
       "        text-align: right;\n",
       "    }\n",
       "</style>\n",
       "<table border=\"1\" class=\"dataframe\">\n",
       "  <thead>\n",
       "    <tr style=\"text-align: right;\">\n",
       "      <th></th>\n",
       "      <th>Valuation</th>\n",
       "      <th>Valuation_num</th>\n",
       "    </tr>\n",
       "  </thead>\n",
       "  <tbody>\n",
       "    <tr>\n",
       "      <th>0</th>\n",
       "      <td>$180B</td>\n",
       "      <td>180</td>\n",
       "    </tr>\n",
       "    <tr>\n",
       "      <th>1</th>\n",
       "      <td>$100B</td>\n",
       "      <td>100</td>\n",
       "    </tr>\n",
       "    <tr>\n",
       "      <th>2</th>\n",
       "      <td>$100B</td>\n",
       "      <td>100</td>\n",
       "    </tr>\n",
       "    <tr>\n",
       "      <th>3</th>\n",
       "      <td>$95B</td>\n",
       "      <td>95</td>\n",
       "    </tr>\n",
       "    <tr>\n",
       "      <th>4</th>\n",
       "      <td>$46B</td>\n",
       "      <td>46</td>\n",
       "    </tr>\n",
       "  </tbody>\n",
       "</table>\n",
       "</div>"
      ],
      "text/plain": [
       "  Valuation  Valuation_num\n",
       "0     $180B            180\n",
       "1     $100B            100\n",
       "2     $100B            100\n",
       "3      $95B             95\n",
       "4      $46B             46"
      ]
     },
     "execution_count": 13,
     "metadata": {},
     "output_type": "execute_result"
    }
   ],
   "source": [
    "df_companies['Valuation_num'] = df_companies['Valuation'].apply(str_to_num)\n",
    "df_companies[['Valuation','Valuation_num']].head()"
   ]
  },
  {
   "cell_type": "code",
   "execution_count": 14,
   "id": "2f58cb32",
   "metadata": {},
   "outputs": [
    {
     "data": {
      "text/plain": [
       "Company              0\n",
       "Valuation            0\n",
       "Date Joined          0\n",
       "Industry             0\n",
       "City                16\n",
       "Country/Region       0\n",
       "Continent            0\n",
       "Year Founded         0\n",
       "Funding              0\n",
       "Select Investors     1\n",
       "Year Joined          0\n",
       "Valuation_num        0\n",
       "dtype: int64"
      ]
     },
     "execution_count": 14,
     "metadata": {},
     "output_type": "execute_result"
    }
   ],
   "source": [
    "df_companies.isnull().sum(axis=0)"
   ]
  },
  {
   "cell_type": "code",
   "execution_count": 15,
   "id": "bbfe6500",
   "metadata": {},
   "outputs": [
    {
     "data": {
      "text/html": [
       "<div>\n",
       "<style scoped>\n",
       "    .dataframe tbody tr th:only-of-type {\n",
       "        vertical-align: middle;\n",
       "    }\n",
       "\n",
       "    .dataframe tbody tr th {\n",
       "        vertical-align: top;\n",
       "    }\n",
       "\n",
       "    .dataframe thead th {\n",
       "        text-align: right;\n",
       "    }\n",
       "</style>\n",
       "<table border=\"1\" class=\"dataframe\">\n",
       "  <thead>\n",
       "    <tr style=\"text-align: right;\">\n",
       "      <th></th>\n",
       "      <th>Company</th>\n",
       "      <th>Valuation</th>\n",
       "      <th>Date Joined</th>\n",
       "      <th>Industry</th>\n",
       "      <th>City</th>\n",
       "      <th>Country/Region</th>\n",
       "      <th>Continent</th>\n",
       "      <th>Year Founded</th>\n",
       "      <th>Funding</th>\n",
       "      <th>Select Investors</th>\n",
       "      <th>Year Joined</th>\n",
       "      <th>Valuation_num</th>\n",
       "    </tr>\n",
       "  </thead>\n",
       "  <tbody>\n",
       "    <tr>\n",
       "      <th>1069</th>\n",
       "      <td>False</td>\n",
       "      <td>False</td>\n",
       "      <td>False</td>\n",
       "      <td>False</td>\n",
       "      <td>False</td>\n",
       "      <td>False</td>\n",
       "      <td>False</td>\n",
       "      <td>False</td>\n",
       "      <td>False</td>\n",
       "      <td>False</td>\n",
       "      <td>False</td>\n",
       "      <td>False</td>\n",
       "    </tr>\n",
       "    <tr>\n",
       "      <th>1070</th>\n",
       "      <td>False</td>\n",
       "      <td>False</td>\n",
       "      <td>False</td>\n",
       "      <td>False</td>\n",
       "      <td>False</td>\n",
       "      <td>False</td>\n",
       "      <td>False</td>\n",
       "      <td>False</td>\n",
       "      <td>False</td>\n",
       "      <td>False</td>\n",
       "      <td>False</td>\n",
       "      <td>False</td>\n",
       "    </tr>\n",
       "    <tr>\n",
       "      <th>1071</th>\n",
       "      <td>False</td>\n",
       "      <td>False</td>\n",
       "      <td>False</td>\n",
       "      <td>False</td>\n",
       "      <td>False</td>\n",
       "      <td>False</td>\n",
       "      <td>False</td>\n",
       "      <td>False</td>\n",
       "      <td>False</td>\n",
       "      <td>False</td>\n",
       "      <td>False</td>\n",
       "      <td>False</td>\n",
       "    </tr>\n",
       "    <tr>\n",
       "      <th>1072</th>\n",
       "      <td>False</td>\n",
       "      <td>False</td>\n",
       "      <td>False</td>\n",
       "      <td>False</td>\n",
       "      <td>False</td>\n",
       "      <td>False</td>\n",
       "      <td>False</td>\n",
       "      <td>False</td>\n",
       "      <td>False</td>\n",
       "      <td>False</td>\n",
       "      <td>False</td>\n",
       "      <td>False</td>\n",
       "    </tr>\n",
       "    <tr>\n",
       "      <th>1073</th>\n",
       "      <td>False</td>\n",
       "      <td>False</td>\n",
       "      <td>False</td>\n",
       "      <td>False</td>\n",
       "      <td>False</td>\n",
       "      <td>False</td>\n",
       "      <td>False</td>\n",
       "      <td>False</td>\n",
       "      <td>False</td>\n",
       "      <td>False</td>\n",
       "      <td>False</td>\n",
       "      <td>False</td>\n",
       "    </tr>\n",
       "  </tbody>\n",
       "</table>\n",
       "</div>"
      ],
      "text/plain": [
       "      Company  Valuation  Date Joined  Industry   City  Country/Region  \\\n",
       "1069    False      False        False     False  False           False   \n",
       "1070    False      False        False     False  False           False   \n",
       "1071    False      False        False     False  False           False   \n",
       "1072    False      False        False     False  False           False   \n",
       "1073    False      False        False     False  False           False   \n",
       "\n",
       "      Continent  Year Founded  Funding  Select Investors  Year Joined  \\\n",
       "1069      False         False    False             False        False   \n",
       "1070      False         False    False             False        False   \n",
       "1071      False         False    False             False        False   \n",
       "1072      False         False    False             False        False   \n",
       "1073      False         False    False             False        False   \n",
       "\n",
       "      Valuation_num  \n",
       "1069          False  \n",
       "1070          False  \n",
       "1071          False  \n",
       "1072          False  \n",
       "1073          False  "
      ]
     },
     "execution_count": 15,
     "metadata": {},
     "output_type": "execute_result"
    }
   ],
   "source": [
    "mask = df_companies.isna()\n",
    "mask.tail()"
   ]
  },
  {
   "cell_type": "code",
   "execution_count": 16,
   "id": "7a3429b7",
   "metadata": {},
   "outputs": [
    {
     "data": {
      "text/plain": [
       "0    False\n",
       "1    False\n",
       "2    False\n",
       "3    False\n",
       "4    False\n",
       "dtype: bool"
      ]
     },
     "execution_count": 16,
     "metadata": {},
     "output_type": "execute_result"
    }
   ],
   "source": [
    "mask = mask.any(axis=1)\n",
    "mask.head()"
   ]
  },
  {
   "cell_type": "code",
   "execution_count": 17,
   "id": "623c33e5",
   "metadata": {},
   "outputs": [
    {
     "data": {
      "text/html": [
       "<div>\n",
       "<style scoped>\n",
       "    .dataframe tbody tr th:only-of-type {\n",
       "        vertical-align: middle;\n",
       "    }\n",
       "\n",
       "    .dataframe tbody tr th {\n",
       "        vertical-align: top;\n",
       "    }\n",
       "\n",
       "    .dataframe thead th {\n",
       "        text-align: right;\n",
       "    }\n",
       "</style>\n",
       "<table border=\"1\" class=\"dataframe\">\n",
       "  <thead>\n",
       "    <tr style=\"text-align: right;\">\n",
       "      <th></th>\n",
       "      <th>Company</th>\n",
       "      <th>Valuation</th>\n",
       "      <th>Date Joined</th>\n",
       "      <th>Industry</th>\n",
       "      <th>City</th>\n",
       "      <th>Country/Region</th>\n",
       "      <th>Continent</th>\n",
       "      <th>Year Founded</th>\n",
       "      <th>Funding</th>\n",
       "      <th>Select Investors</th>\n",
       "      <th>Year Joined</th>\n",
       "      <th>Valuation_num</th>\n",
       "    </tr>\n",
       "  </thead>\n",
       "  <tbody>\n",
       "    <tr>\n",
       "      <th>12</th>\n",
       "      <td>FTX</td>\n",
       "      <td>$32B</td>\n",
       "      <td>7/20/21</td>\n",
       "      <td>Fintech</td>\n",
       "      <td>NaN</td>\n",
       "      <td>Bahamas</td>\n",
       "      <td>North America</td>\n",
       "      <td>2018</td>\n",
       "      <td>$2B</td>\n",
       "      <td>Sequoia Capital, Thoma Bravo, Softbank</td>\n",
       "      <td>2021</td>\n",
       "      <td>32</td>\n",
       "    </tr>\n",
       "    <tr>\n",
       "      <th>170</th>\n",
       "      <td>HyalRoute</td>\n",
       "      <td>$4B</td>\n",
       "      <td>5/26/20</td>\n",
       "      <td>Mobile &amp; telecommunications</td>\n",
       "      <td>NaN</td>\n",
       "      <td>Singapore</td>\n",
       "      <td>Asia</td>\n",
       "      <td>2015</td>\n",
       "      <td>$263M</td>\n",
       "      <td>Kuang-Chi</td>\n",
       "      <td>2020</td>\n",
       "      <td>4</td>\n",
       "    </tr>\n",
       "    <tr>\n",
       "      <th>242</th>\n",
       "      <td>Moglix</td>\n",
       "      <td>$3B</td>\n",
       "      <td>5/17/21</td>\n",
       "      <td>E-commerce &amp; direct-to-consumer</td>\n",
       "      <td>NaN</td>\n",
       "      <td>Singapore</td>\n",
       "      <td>Asia</td>\n",
       "      <td>2015</td>\n",
       "      <td>$471M</td>\n",
       "      <td>Jungle Ventures, Accel, Venture Highway</td>\n",
       "      <td>2021</td>\n",
       "      <td>3</td>\n",
       "    </tr>\n",
       "    <tr>\n",
       "      <th>251</th>\n",
       "      <td>Trax</td>\n",
       "      <td>$3B</td>\n",
       "      <td>7/22/19</td>\n",
       "      <td>Artificial intelligence</td>\n",
       "      <td>NaN</td>\n",
       "      <td>Singapore</td>\n",
       "      <td>Asia</td>\n",
       "      <td>2010</td>\n",
       "      <td>$1B</td>\n",
       "      <td>Hopu Investment Management, Boyu Capital, DC T...</td>\n",
       "      <td>2019</td>\n",
       "      <td>3</td>\n",
       "    </tr>\n",
       "    <tr>\n",
       "      <th>325</th>\n",
       "      <td>Amber Group</td>\n",
       "      <td>$3B</td>\n",
       "      <td>6/21/21</td>\n",
       "      <td>Fintech</td>\n",
       "      <td>NaN</td>\n",
       "      <td>Hong Kong</td>\n",
       "      <td>Asia</td>\n",
       "      <td>2015</td>\n",
       "      <td>$328M</td>\n",
       "      <td>Tiger Global Management, Tiger Brokers, DCM Ve...</td>\n",
       "      <td>2021</td>\n",
       "      <td>3</td>\n",
       "    </tr>\n",
       "    <tr>\n",
       "      <th>382</th>\n",
       "      <td>Ninja Van</td>\n",
       "      <td>$2B</td>\n",
       "      <td>9/27/21</td>\n",
       "      <td>Supply chain, logistics, &amp; delivery</td>\n",
       "      <td>NaN</td>\n",
       "      <td>Singapore</td>\n",
       "      <td>Asia</td>\n",
       "      <td>2014</td>\n",
       "      <td>$975M</td>\n",
       "      <td>B Capital Group, Monk's Hill Ventures, Dynamic...</td>\n",
       "      <td>2021</td>\n",
       "      <td>2</td>\n",
       "    </tr>\n",
       "    <tr>\n",
       "      <th>541</th>\n",
       "      <td>Advance Intelligence Group</td>\n",
       "      <td>$2B</td>\n",
       "      <td>9/23/21</td>\n",
       "      <td>Artificial intelligence</td>\n",
       "      <td>NaN</td>\n",
       "      <td>Singapore</td>\n",
       "      <td>Asia</td>\n",
       "      <td>2016</td>\n",
       "      <td>$536M</td>\n",
       "      <td>Vision Plus Capital, GSR Ventures, ZhenFund</td>\n",
       "      <td>2021</td>\n",
       "      <td>2</td>\n",
       "    </tr>\n",
       "    <tr>\n",
       "      <th>629</th>\n",
       "      <td>LinkSure Network</td>\n",
       "      <td>$1B</td>\n",
       "      <td>1/1/15</td>\n",
       "      <td>Mobile &amp; telecommunications</td>\n",
       "      <td>Shanghai</td>\n",
       "      <td>China</td>\n",
       "      <td>Asia</td>\n",
       "      <td>2013</td>\n",
       "      <td>$52M</td>\n",
       "      <td>NaN</td>\n",
       "      <td>2015</td>\n",
       "      <td>1</td>\n",
       "    </tr>\n",
       "    <tr>\n",
       "      <th>811</th>\n",
       "      <td>Carousell</td>\n",
       "      <td>$1B</td>\n",
       "      <td>9/15/21</td>\n",
       "      <td>E-commerce &amp; direct-to-consumer</td>\n",
       "      <td>NaN</td>\n",
       "      <td>Singapore</td>\n",
       "      <td>Asia</td>\n",
       "      <td>2012</td>\n",
       "      <td>$288M</td>\n",
       "      <td>500 Global, Rakuten Ventures, Golden Gate Vent...</td>\n",
       "      <td>2021</td>\n",
       "      <td>1</td>\n",
       "    </tr>\n",
       "    <tr>\n",
       "      <th>848</th>\n",
       "      <td>Matrixport</td>\n",
       "      <td>$1B</td>\n",
       "      <td>6/1/21</td>\n",
       "      <td>Fintech</td>\n",
       "      <td>NaN</td>\n",
       "      <td>Singapore</td>\n",
       "      <td>Asia</td>\n",
       "      <td>2019</td>\n",
       "      <td>$100M</td>\n",
       "      <td>Dragonfly Captial, Qiming Venture Partners, DS...</td>\n",
       "      <td>2021</td>\n",
       "      <td>1</td>\n",
       "    </tr>\n",
       "    <tr>\n",
       "      <th>880</th>\n",
       "      <td>bolttech</td>\n",
       "      <td>$1B</td>\n",
       "      <td>7/1/21</td>\n",
       "      <td>Fintech</td>\n",
       "      <td>NaN</td>\n",
       "      <td>Singapore</td>\n",
       "      <td>Asia</td>\n",
       "      <td>2018</td>\n",
       "      <td>$210M</td>\n",
       "      <td>Mundi Ventures, Doqling Capital Partners, Acti...</td>\n",
       "      <td>2021</td>\n",
       "      <td>1</td>\n",
       "    </tr>\n",
       "    <tr>\n",
       "      <th>889</th>\n",
       "      <td>Carro</td>\n",
       "      <td>$1B</td>\n",
       "      <td>6/14/21</td>\n",
       "      <td>E-commerce &amp; direct-to-consumer</td>\n",
       "      <td>NaN</td>\n",
       "      <td>Singapore</td>\n",
       "      <td>Asia</td>\n",
       "      <td>2015</td>\n",
       "      <td>$595M</td>\n",
       "      <td>SingTel Innov8, Alpha JWC Ventures, Golden Gat...</td>\n",
       "      <td>2021</td>\n",
       "      <td>1</td>\n",
       "    </tr>\n",
       "    <tr>\n",
       "      <th>893</th>\n",
       "      <td>Cider</td>\n",
       "      <td>$1B</td>\n",
       "      <td>9/2/21</td>\n",
       "      <td>E-commerce &amp; direct-to-consumer</td>\n",
       "      <td>NaN</td>\n",
       "      <td>Hong Kong</td>\n",
       "      <td>Asia</td>\n",
       "      <td>2020</td>\n",
       "      <td>$140M</td>\n",
       "      <td>Andreessen Horowitz, DST Global, IDG Capital</td>\n",
       "      <td>2021</td>\n",
       "      <td>1</td>\n",
       "    </tr>\n",
       "    <tr>\n",
       "      <th>980</th>\n",
       "      <td>NIUM</td>\n",
       "      <td>$1B</td>\n",
       "      <td>7/13/21</td>\n",
       "      <td>Fintech</td>\n",
       "      <td>NaN</td>\n",
       "      <td>Singapore</td>\n",
       "      <td>Asia</td>\n",
       "      <td>2014</td>\n",
       "      <td>$285M</td>\n",
       "      <td>Vertex Ventures SE Asia, Global Founders Capit...</td>\n",
       "      <td>2021</td>\n",
       "      <td>1</td>\n",
       "    </tr>\n",
       "    <tr>\n",
       "      <th>986</th>\n",
       "      <td>ONE</td>\n",
       "      <td>$1B</td>\n",
       "      <td>12/8/21</td>\n",
       "      <td>Internet software &amp; services</td>\n",
       "      <td>NaN</td>\n",
       "      <td>Singapore</td>\n",
       "      <td>Asia</td>\n",
       "      <td>2011</td>\n",
       "      <td>$515M</td>\n",
       "      <td>Temasek, Guggenheim Investments, Qatar Investm...</td>\n",
       "      <td>2021</td>\n",
       "      <td>1</td>\n",
       "    </tr>\n",
       "    <tr>\n",
       "      <th>994</th>\n",
       "      <td>PatSnap</td>\n",
       "      <td>$1B</td>\n",
       "      <td>3/16/21</td>\n",
       "      <td>Internet software &amp; services</td>\n",
       "      <td>NaN</td>\n",
       "      <td>Singapore</td>\n",
       "      <td>Asia</td>\n",
       "      <td>2007</td>\n",
       "      <td>$352M</td>\n",
       "      <td>Sequoia Capital China, Shunwei Capital Partner...</td>\n",
       "      <td>2021</td>\n",
       "      <td>1</td>\n",
       "    </tr>\n",
       "    <tr>\n",
       "      <th>1061</th>\n",
       "      <td>WeLab</td>\n",
       "      <td>$1B</td>\n",
       "      <td>11/8/17</td>\n",
       "      <td>Fintech</td>\n",
       "      <td>NaN</td>\n",
       "      <td>Hong Kong</td>\n",
       "      <td>Asia</td>\n",
       "      <td>2013</td>\n",
       "      <td>$871M</td>\n",
       "      <td>Sequoia Capital China, ING, Alibaba Entreprene...</td>\n",
       "      <td>2017</td>\n",
       "      <td>1</td>\n",
       "    </tr>\n",
       "  </tbody>\n",
       "</table>\n",
       "</div>"
      ],
      "text/plain": [
       "                         Company Valuation Date Joined  \\\n",
       "12                           FTX      $32B     7/20/21   \n",
       "170                    HyalRoute       $4B     5/26/20   \n",
       "242                       Moglix       $3B     5/17/21   \n",
       "251                         Trax       $3B     7/22/19   \n",
       "325                  Amber Group       $3B     6/21/21   \n",
       "382                    Ninja Van       $2B     9/27/21   \n",
       "541   Advance Intelligence Group       $2B     9/23/21   \n",
       "629             LinkSure Network       $1B      1/1/15   \n",
       "811                    Carousell       $1B     9/15/21   \n",
       "848                   Matrixport       $1B      6/1/21   \n",
       "880                     bolttech       $1B      7/1/21   \n",
       "889                        Carro       $1B     6/14/21   \n",
       "893                        Cider       $1B      9/2/21   \n",
       "980                         NIUM       $1B     7/13/21   \n",
       "986                          ONE       $1B     12/8/21   \n",
       "994                      PatSnap       $1B     3/16/21   \n",
       "1061                       WeLab       $1B     11/8/17   \n",
       "\n",
       "                                 Industry      City Country/Region  \\\n",
       "12                                Fintech       NaN        Bahamas   \n",
       "170           Mobile & telecommunications       NaN      Singapore   \n",
       "242       E-commerce & direct-to-consumer       NaN      Singapore   \n",
       "251               Artificial intelligence       NaN      Singapore   \n",
       "325                               Fintech       NaN      Hong Kong   \n",
       "382   Supply chain, logistics, & delivery       NaN      Singapore   \n",
       "541               Artificial intelligence       NaN      Singapore   \n",
       "629           Mobile & telecommunications  Shanghai          China   \n",
       "811       E-commerce & direct-to-consumer       NaN      Singapore   \n",
       "848                               Fintech       NaN      Singapore   \n",
       "880                               Fintech       NaN      Singapore   \n",
       "889       E-commerce & direct-to-consumer       NaN      Singapore   \n",
       "893       E-commerce & direct-to-consumer       NaN      Hong Kong   \n",
       "980                               Fintech       NaN      Singapore   \n",
       "986          Internet software & services       NaN      Singapore   \n",
       "994          Internet software & services       NaN      Singapore   \n",
       "1061                              Fintech       NaN      Hong Kong   \n",
       "\n",
       "          Continent  Year Founded Funding  \\\n",
       "12    North America          2018     $2B   \n",
       "170            Asia          2015   $263M   \n",
       "242            Asia          2015   $471M   \n",
       "251            Asia          2010     $1B   \n",
       "325            Asia          2015   $328M   \n",
       "382            Asia          2014   $975M   \n",
       "541            Asia          2016   $536M   \n",
       "629            Asia          2013    $52M   \n",
       "811            Asia          2012   $288M   \n",
       "848            Asia          2019   $100M   \n",
       "880            Asia          2018   $210M   \n",
       "889            Asia          2015   $595M   \n",
       "893            Asia          2020   $140M   \n",
       "980            Asia          2014   $285M   \n",
       "986            Asia          2011   $515M   \n",
       "994            Asia          2007   $352M   \n",
       "1061           Asia          2013   $871M   \n",
       "\n",
       "                                       Select Investors  Year Joined  \\\n",
       "12               Sequoia Capital, Thoma Bravo, Softbank         2021   \n",
       "170                                           Kuang-Chi         2020   \n",
       "242             Jungle Ventures, Accel, Venture Highway         2021   \n",
       "251   Hopu Investment Management, Boyu Capital, DC T...         2019   \n",
       "325   Tiger Global Management, Tiger Brokers, DCM Ve...         2021   \n",
       "382   B Capital Group, Monk's Hill Ventures, Dynamic...         2021   \n",
       "541         Vision Plus Capital, GSR Ventures, ZhenFund         2021   \n",
       "629                                                 NaN         2015   \n",
       "811   500 Global, Rakuten Ventures, Golden Gate Vent...         2021   \n",
       "848   Dragonfly Captial, Qiming Venture Partners, DS...         2021   \n",
       "880   Mundi Ventures, Doqling Capital Partners, Acti...         2021   \n",
       "889   SingTel Innov8, Alpha JWC Ventures, Golden Gat...         2021   \n",
       "893        Andreessen Horowitz, DST Global, IDG Capital         2021   \n",
       "980   Vertex Ventures SE Asia, Global Founders Capit...         2021   \n",
       "986   Temasek, Guggenheim Investments, Qatar Investm...         2021   \n",
       "994   Sequoia Capital China, Shunwei Capital Partner...         2021   \n",
       "1061  Sequoia Capital China, ING, Alibaba Entreprene...         2017   \n",
       "\n",
       "      Valuation_num  \n",
       "12               32  \n",
       "170               4  \n",
       "242               3  \n",
       "251               3  \n",
       "325               3  \n",
       "382               2  \n",
       "541               2  \n",
       "629               1  \n",
       "811               1  \n",
       "848               1  \n",
       "880               1  \n",
       "889               1  \n",
       "893               1  \n",
       "980               1  \n",
       "986               1  \n",
       "994               1  \n",
       "1061              1  "
      ]
     },
     "execution_count": 17,
     "metadata": {},
     "output_type": "execute_result"
    }
   ],
   "source": [
    "df_missing_rows = df_companies[mask]\n",
    "df_missing_rows"
   ]
  },
  {
   "cell_type": "code",
   "execution_count": 23,
   "id": "42327b24",
   "metadata": {},
   "outputs": [
    {
     "data": {
      "text/plain": [
       "12888"
      ]
     },
     "execution_count": 23,
     "metadata": {},
     "output_type": "execute_result"
    }
   ],
   "source": [
    "count_total = df_companies.size\n",
    "count_total"
   ]
  },
  {
   "cell_type": "code",
   "execution_count": 24,
   "id": "fe831f8a",
   "metadata": {},
   "outputs": [
    {
     "data": {
      "text/plain": [
       "12684"
      ]
     },
     "execution_count": 24,
     "metadata": {},
     "output_type": "execute_result"
    }
   ],
   "source": [
    "count_dropna_rows = df_companies.dropna().size\n",
    "count_dropna_rows"
   ]
  },
  {
   "cell_type": "code",
   "execution_count": 25,
   "id": "ef6a1e4a",
   "metadata": {},
   "outputs": [
    {
     "data": {
      "text/plain": [
       "10740"
      ]
     },
     "execution_count": 25,
     "metadata": {},
     "output_type": "execute_result"
    }
   ],
   "source": [
    "count_dropna_columns = df_companies.dropna(axis=1).size\n",
    "count_dropna_columns"
   ]
  },
  {
   "cell_type": "code",
   "execution_count": 26,
   "id": "a7890bbc",
   "metadata": {},
   "outputs": [
    {
     "name": "stdout",
     "output_type": "stream",
     "text": [
      "percentage removed, row : 1.5828677839851024 %\n",
      "percentage removed, column : 16.666666666666664 %\n"
     ]
    }
   ],
   "source": [
    "row_percent = ((count_total - count_dropna_rows) / count_total) * 100\n",
    "print('percentage removed, row :',row_percent,'%')\n",
    "column_percent = ((count_total - count_dropna_columns) / count_total) * 100\n",
    "print('percentage removed, column :',column_percent,'%')"
   ]
  },
  {
   "cell_type": "code",
   "execution_count": 27,
   "id": "245637c8",
   "metadata": {},
   "outputs": [
    {
     "name": "stderr",
     "output_type": "stream",
     "text": [
      "C:\\Users\\tomar\\AppData\\Local\\Temp\\ipykernel_2552\\3601219514.py:1: FutureWarning: DataFrame.fillna with 'method' is deprecated and will raise in a future version. Use obj.ffill() or obj.bfill() instead.\n",
      "  df_companies_backfill = df_companies.fillna(method = 'backfill')\n"
     ]
    },
    {
     "data": {
      "text/html": [
       "<div>\n",
       "<style scoped>\n",
       "    .dataframe tbody tr th:only-of-type {\n",
       "        vertical-align: middle;\n",
       "    }\n",
       "\n",
       "    .dataframe tbody tr th {\n",
       "        vertical-align: top;\n",
       "    }\n",
       "\n",
       "    .dataframe thead th {\n",
       "        text-align: right;\n",
       "    }\n",
       "</style>\n",
       "<table border=\"1\" class=\"dataframe\">\n",
       "  <thead>\n",
       "    <tr style=\"text-align: right;\">\n",
       "      <th></th>\n",
       "      <th>Company</th>\n",
       "      <th>Valuation</th>\n",
       "      <th>Date Joined</th>\n",
       "      <th>Industry</th>\n",
       "      <th>City</th>\n",
       "      <th>Country/Region</th>\n",
       "      <th>Continent</th>\n",
       "      <th>Year Founded</th>\n",
       "      <th>Funding</th>\n",
       "      <th>Select Investors</th>\n",
       "      <th>Year Joined</th>\n",
       "      <th>Valuation_num</th>\n",
       "    </tr>\n",
       "  </thead>\n",
       "  <tbody>\n",
       "    <tr>\n",
       "      <th>12</th>\n",
       "      <td>FTX</td>\n",
       "      <td>$32B</td>\n",
       "      <td>7/20/21</td>\n",
       "      <td>Fintech</td>\n",
       "      <td>Jacksonville</td>\n",
       "      <td>Bahamas</td>\n",
       "      <td>North America</td>\n",
       "      <td>2018</td>\n",
       "      <td>$2B</td>\n",
       "      <td>Sequoia Capital, Thoma Bravo, Softbank</td>\n",
       "      <td>2021</td>\n",
       "      <td>32</td>\n",
       "    </tr>\n",
       "    <tr>\n",
       "      <th>170</th>\n",
       "      <td>HyalRoute</td>\n",
       "      <td>$4B</td>\n",
       "      <td>5/26/20</td>\n",
       "      <td>Mobile &amp; telecommunications</td>\n",
       "      <td>El Segundo</td>\n",
       "      <td>Singapore</td>\n",
       "      <td>Asia</td>\n",
       "      <td>2015</td>\n",
       "      <td>$263M</td>\n",
       "      <td>Kuang-Chi</td>\n",
       "      <td>2020</td>\n",
       "      <td>4</td>\n",
       "    </tr>\n",
       "    <tr>\n",
       "      <th>242</th>\n",
       "      <td>Moglix</td>\n",
       "      <td>$3B</td>\n",
       "      <td>5/17/21</td>\n",
       "      <td>E-commerce &amp; direct-to-consumer</td>\n",
       "      <td>San Francisco</td>\n",
       "      <td>Singapore</td>\n",
       "      <td>Asia</td>\n",
       "      <td>2015</td>\n",
       "      <td>$471M</td>\n",
       "      <td>Jungle Ventures, Accel, Venture Highway</td>\n",
       "      <td>2021</td>\n",
       "      <td>3</td>\n",
       "    </tr>\n",
       "    <tr>\n",
       "      <th>251</th>\n",
       "      <td>Trax</td>\n",
       "      <td>$3B</td>\n",
       "      <td>7/22/19</td>\n",
       "      <td>Artificial intelligence</td>\n",
       "      <td>Amsterdam</td>\n",
       "      <td>Singapore</td>\n",
       "      <td>Asia</td>\n",
       "      <td>2010</td>\n",
       "      <td>$1B</td>\n",
       "      <td>Hopu Investment Management, Boyu Capital, DC T...</td>\n",
       "      <td>2019</td>\n",
       "      <td>3</td>\n",
       "    </tr>\n",
       "    <tr>\n",
       "      <th>325</th>\n",
       "      <td>Amber Group</td>\n",
       "      <td>$3B</td>\n",
       "      <td>6/21/21</td>\n",
       "      <td>Fintech</td>\n",
       "      <td>San Francisco</td>\n",
       "      <td>Hong Kong</td>\n",
       "      <td>Asia</td>\n",
       "      <td>2015</td>\n",
       "      <td>$328M</td>\n",
       "      <td>Tiger Global Management, Tiger Brokers, DCM Ve...</td>\n",
       "      <td>2021</td>\n",
       "      <td>3</td>\n",
       "    </tr>\n",
       "    <tr>\n",
       "      <th>382</th>\n",
       "      <td>Ninja Van</td>\n",
       "      <td>$2B</td>\n",
       "      <td>9/27/21</td>\n",
       "      <td>Supply chain, logistics, &amp; delivery</td>\n",
       "      <td>San Francisco</td>\n",
       "      <td>Singapore</td>\n",
       "      <td>Asia</td>\n",
       "      <td>2014</td>\n",
       "      <td>$975M</td>\n",
       "      <td>B Capital Group, Monk's Hill Ventures, Dynamic...</td>\n",
       "      <td>2021</td>\n",
       "      <td>2</td>\n",
       "    </tr>\n",
       "    <tr>\n",
       "      <th>541</th>\n",
       "      <td>Advance Intelligence Group</td>\n",
       "      <td>$2B</td>\n",
       "      <td>9/23/21</td>\n",
       "      <td>Artificial intelligence</td>\n",
       "      <td>Helsinki</td>\n",
       "      <td>Singapore</td>\n",
       "      <td>Asia</td>\n",
       "      <td>2016</td>\n",
       "      <td>$536M</td>\n",
       "      <td>Vision Plus Capital, GSR Ventures, ZhenFund</td>\n",
       "      <td>2021</td>\n",
       "      <td>2</td>\n",
       "    </tr>\n",
       "    <tr>\n",
       "      <th>629</th>\n",
       "      <td>LinkSure Network</td>\n",
       "      <td>$1B</td>\n",
       "      <td>1/1/15</td>\n",
       "      <td>Mobile &amp; telecommunications</td>\n",
       "      <td>Shanghai</td>\n",
       "      <td>China</td>\n",
       "      <td>Asia</td>\n",
       "      <td>2013</td>\n",
       "      <td>$52M</td>\n",
       "      <td>Sequoia Capital India, The Times Group, GMO Ve...</td>\n",
       "      <td>2015</td>\n",
       "      <td>1</td>\n",
       "    </tr>\n",
       "    <tr>\n",
       "      <th>811</th>\n",
       "      <td>Carousell</td>\n",
       "      <td>$1B</td>\n",
       "      <td>9/15/21</td>\n",
       "      <td>E-commerce &amp; direct-to-consumer</td>\n",
       "      <td>New York</td>\n",
       "      <td>Singapore</td>\n",
       "      <td>Asia</td>\n",
       "      <td>2012</td>\n",
       "      <td>$288M</td>\n",
       "      <td>500 Global, Rakuten Ventures, Golden Gate Vent...</td>\n",
       "      <td>2021</td>\n",
       "      <td>1</td>\n",
       "    </tr>\n",
       "    <tr>\n",
       "      <th>848</th>\n",
       "      <td>Matrixport</td>\n",
       "      <td>$1B</td>\n",
       "      <td>6/1/21</td>\n",
       "      <td>Fintech</td>\n",
       "      <td>San Francisco</td>\n",
       "      <td>Singapore</td>\n",
       "      <td>Asia</td>\n",
       "      <td>2019</td>\n",
       "      <td>$100M</td>\n",
       "      <td>Dragonfly Captial, Qiming Venture Partners, DS...</td>\n",
       "      <td>2021</td>\n",
       "      <td>1</td>\n",
       "    </tr>\n",
       "    <tr>\n",
       "      <th>880</th>\n",
       "      <td>bolttech</td>\n",
       "      <td>$1B</td>\n",
       "      <td>7/1/21</td>\n",
       "      <td>Fintech</td>\n",
       "      <td>Englewood</td>\n",
       "      <td>Singapore</td>\n",
       "      <td>Asia</td>\n",
       "      <td>2018</td>\n",
       "      <td>$210M</td>\n",
       "      <td>Mundi Ventures, Doqling Capital Partners, Acti...</td>\n",
       "      <td>2021</td>\n",
       "      <td>1</td>\n",
       "    </tr>\n",
       "    <tr>\n",
       "      <th>889</th>\n",
       "      <td>Carro</td>\n",
       "      <td>$1B</td>\n",
       "      <td>6/14/21</td>\n",
       "      <td>E-commerce &amp; direct-to-consumer</td>\n",
       "      <td>Lincoln</td>\n",
       "      <td>Singapore</td>\n",
       "      <td>Asia</td>\n",
       "      <td>2015</td>\n",
       "      <td>$595M</td>\n",
       "      <td>SingTel Innov8, Alpha JWC Ventures, Golden Gat...</td>\n",
       "      <td>2021</td>\n",
       "      <td>1</td>\n",
       "    </tr>\n",
       "    <tr>\n",
       "      <th>893</th>\n",
       "      <td>Cider</td>\n",
       "      <td>$1B</td>\n",
       "      <td>9/2/21</td>\n",
       "      <td>E-commerce &amp; direct-to-consumer</td>\n",
       "      <td>Mexico City</td>\n",
       "      <td>Hong Kong</td>\n",
       "      <td>Asia</td>\n",
       "      <td>2020</td>\n",
       "      <td>$140M</td>\n",
       "      <td>Andreessen Horowitz, DST Global, IDG Capital</td>\n",
       "      <td>2021</td>\n",
       "      <td>1</td>\n",
       "    </tr>\n",
       "    <tr>\n",
       "      <th>980</th>\n",
       "      <td>NIUM</td>\n",
       "      <td>$1B</td>\n",
       "      <td>7/13/21</td>\n",
       "      <td>Fintech</td>\n",
       "      <td>Bengaluru</td>\n",
       "      <td>Singapore</td>\n",
       "      <td>Asia</td>\n",
       "      <td>2014</td>\n",
       "      <td>$285M</td>\n",
       "      <td>Vertex Ventures SE Asia, Global Founders Capit...</td>\n",
       "      <td>2021</td>\n",
       "      <td>1</td>\n",
       "    </tr>\n",
       "    <tr>\n",
       "      <th>986</th>\n",
       "      <td>ONE</td>\n",
       "      <td>$1B</td>\n",
       "      <td>12/8/21</td>\n",
       "      <td>Internet software &amp; services</td>\n",
       "      <td>New York</td>\n",
       "      <td>Singapore</td>\n",
       "      <td>Asia</td>\n",
       "      <td>2011</td>\n",
       "      <td>$515M</td>\n",
       "      <td>Temasek, Guggenheim Investments, Qatar Investm...</td>\n",
       "      <td>2021</td>\n",
       "      <td>1</td>\n",
       "    </tr>\n",
       "    <tr>\n",
       "      <th>994</th>\n",
       "      <td>PatSnap</td>\n",
       "      <td>$1B</td>\n",
       "      <td>3/16/21</td>\n",
       "      <td>Internet software &amp; services</td>\n",
       "      <td>London</td>\n",
       "      <td>Singapore</td>\n",
       "      <td>Asia</td>\n",
       "      <td>2007</td>\n",
       "      <td>$352M</td>\n",
       "      <td>Sequoia Capital China, Shunwei Capital Partner...</td>\n",
       "      <td>2021</td>\n",
       "      <td>1</td>\n",
       "    </tr>\n",
       "    <tr>\n",
       "      <th>1061</th>\n",
       "      <td>WeLab</td>\n",
       "      <td>$1B</td>\n",
       "      <td>11/8/17</td>\n",
       "      <td>Fintech</td>\n",
       "      <td>Beijing</td>\n",
       "      <td>Hong Kong</td>\n",
       "      <td>Asia</td>\n",
       "      <td>2013</td>\n",
       "      <td>$871M</td>\n",
       "      <td>Sequoia Capital China, ING, Alibaba Entreprene...</td>\n",
       "      <td>2017</td>\n",
       "      <td>1</td>\n",
       "    </tr>\n",
       "  </tbody>\n",
       "</table>\n",
       "</div>"
      ],
      "text/plain": [
       "                         Company Valuation Date Joined  \\\n",
       "12                           FTX      $32B     7/20/21   \n",
       "170                    HyalRoute       $4B     5/26/20   \n",
       "242                       Moglix       $3B     5/17/21   \n",
       "251                         Trax       $3B     7/22/19   \n",
       "325                  Amber Group       $3B     6/21/21   \n",
       "382                    Ninja Van       $2B     9/27/21   \n",
       "541   Advance Intelligence Group       $2B     9/23/21   \n",
       "629             LinkSure Network       $1B      1/1/15   \n",
       "811                    Carousell       $1B     9/15/21   \n",
       "848                   Matrixport       $1B      6/1/21   \n",
       "880                     bolttech       $1B      7/1/21   \n",
       "889                        Carro       $1B     6/14/21   \n",
       "893                        Cider       $1B      9/2/21   \n",
       "980                         NIUM       $1B     7/13/21   \n",
       "986                          ONE       $1B     12/8/21   \n",
       "994                      PatSnap       $1B     3/16/21   \n",
       "1061                       WeLab       $1B     11/8/17   \n",
       "\n",
       "                                 Industry           City Country/Region  \\\n",
       "12                                Fintech   Jacksonville        Bahamas   \n",
       "170           Mobile & telecommunications     El Segundo      Singapore   \n",
       "242       E-commerce & direct-to-consumer  San Francisco      Singapore   \n",
       "251               Artificial intelligence      Amsterdam      Singapore   \n",
       "325                               Fintech  San Francisco      Hong Kong   \n",
       "382   Supply chain, logistics, & delivery  San Francisco      Singapore   \n",
       "541               Artificial intelligence       Helsinki      Singapore   \n",
       "629           Mobile & telecommunications       Shanghai          China   \n",
       "811       E-commerce & direct-to-consumer       New York      Singapore   \n",
       "848                               Fintech  San Francisco      Singapore   \n",
       "880                               Fintech      Englewood      Singapore   \n",
       "889       E-commerce & direct-to-consumer        Lincoln      Singapore   \n",
       "893       E-commerce & direct-to-consumer    Mexico City      Hong Kong   \n",
       "980                               Fintech      Bengaluru      Singapore   \n",
       "986          Internet software & services       New York      Singapore   \n",
       "994          Internet software & services         London      Singapore   \n",
       "1061                              Fintech        Beijing      Hong Kong   \n",
       "\n",
       "          Continent  Year Founded Funding  \\\n",
       "12    North America          2018     $2B   \n",
       "170            Asia          2015   $263M   \n",
       "242            Asia          2015   $471M   \n",
       "251            Asia          2010     $1B   \n",
       "325            Asia          2015   $328M   \n",
       "382            Asia          2014   $975M   \n",
       "541            Asia          2016   $536M   \n",
       "629            Asia          2013    $52M   \n",
       "811            Asia          2012   $288M   \n",
       "848            Asia          2019   $100M   \n",
       "880            Asia          2018   $210M   \n",
       "889            Asia          2015   $595M   \n",
       "893            Asia          2020   $140M   \n",
       "980            Asia          2014   $285M   \n",
       "986            Asia          2011   $515M   \n",
       "994            Asia          2007   $352M   \n",
       "1061           Asia          2013   $871M   \n",
       "\n",
       "                                       Select Investors  Year Joined  \\\n",
       "12               Sequoia Capital, Thoma Bravo, Softbank         2021   \n",
       "170                                           Kuang-Chi         2020   \n",
       "242             Jungle Ventures, Accel, Venture Highway         2021   \n",
       "251   Hopu Investment Management, Boyu Capital, DC T...         2019   \n",
       "325   Tiger Global Management, Tiger Brokers, DCM Ve...         2021   \n",
       "382   B Capital Group, Monk's Hill Ventures, Dynamic...         2021   \n",
       "541         Vision Plus Capital, GSR Ventures, ZhenFund         2021   \n",
       "629   Sequoia Capital India, The Times Group, GMO Ve...         2015   \n",
       "811   500 Global, Rakuten Ventures, Golden Gate Vent...         2021   \n",
       "848   Dragonfly Captial, Qiming Venture Partners, DS...         2021   \n",
       "880   Mundi Ventures, Doqling Capital Partners, Acti...         2021   \n",
       "889   SingTel Innov8, Alpha JWC Ventures, Golden Gat...         2021   \n",
       "893        Andreessen Horowitz, DST Global, IDG Capital         2021   \n",
       "980   Vertex Ventures SE Asia, Global Founders Capit...         2021   \n",
       "986   Temasek, Guggenheim Investments, Qatar Investm...         2021   \n",
       "994   Sequoia Capital China, Shunwei Capital Partner...         2021   \n",
       "1061  Sequoia Capital China, ING, Alibaba Entreprene...         2017   \n",
       "\n",
       "      Valuation_num  \n",
       "12               32  \n",
       "170               4  \n",
       "242               3  \n",
       "251               3  \n",
       "325               3  \n",
       "382               2  \n",
       "541               2  \n",
       "629               1  \n",
       "811               1  \n",
       "848               1  \n",
       "880               1  \n",
       "889               1  \n",
       "893               1  \n",
       "980               1  \n",
       "986               1  \n",
       "994               1  \n",
       "1061              1  "
      ]
     },
     "execution_count": 27,
     "metadata": {},
     "output_type": "execute_result"
    }
   ],
   "source": [
    "df_companies_backfill = df_companies.fillna(method = 'backfill')\n",
    "df_companies_backfill.iloc[df_missing_rows.index,:]"
   ]
  },
  {
   "cell_type": "code",
   "execution_count": 39,
   "id": "6ea030cc",
   "metadata": {},
   "outputs": [],
   "source": [
    "cities = ['Beijing','San Francisco','London']\n",
    "mask = (\n",
    "    (df_companies['Industry'] == 'Hardware') & (df_companies['City'].isin(cities))\n",
    ") | (\n",
    "    (df_companies['Industry']=='Artificial intelligence') & (df_companies['City']=='London')\n",
    ")\n",
    "\n"
   ]
  },
  {
   "cell_type": "code",
   "execution_count": 40,
   "id": "cc83e8a9",
   "metadata": {},
   "outputs": [
    {
     "data": {
      "text/html": [
       "<div>\n",
       "<style scoped>\n",
       "    .dataframe tbody tr th:only-of-type {\n",
       "        vertical-align: middle;\n",
       "    }\n",
       "\n",
       "    .dataframe tbody tr th {\n",
       "        vertical-align: top;\n",
       "    }\n",
       "\n",
       "    .dataframe thead th {\n",
       "        text-align: right;\n",
       "    }\n",
       "</style>\n",
       "<table border=\"1\" class=\"dataframe\">\n",
       "  <thead>\n",
       "    <tr style=\"text-align: right;\">\n",
       "      <th></th>\n",
       "      <th>Company</th>\n",
       "      <th>Valuation</th>\n",
       "      <th>Date Joined</th>\n",
       "      <th>Industry</th>\n",
       "      <th>City</th>\n",
       "      <th>Country/Region</th>\n",
       "      <th>Continent</th>\n",
       "      <th>Year Founded</th>\n",
       "      <th>Funding</th>\n",
       "      <th>Select Investors</th>\n",
       "      <th>Year Joined</th>\n",
       "      <th>Valuation_num</th>\n",
       "    </tr>\n",
       "  </thead>\n",
       "  <tbody>\n",
       "    <tr>\n",
       "      <th>36</th>\n",
       "      <td>Bitmain</td>\n",
       "      <td>$12B</td>\n",
       "      <td>7/6/18</td>\n",
       "      <td>Hardware</td>\n",
       "      <td>Beijing</td>\n",
       "      <td>China</td>\n",
       "      <td>Asia</td>\n",
       "      <td>2015</td>\n",
       "      <td>$765M</td>\n",
       "      <td>Coatue Management, Sequoia Capital China, IDG ...</td>\n",
       "      <td>2018</td>\n",
       "      <td>12</td>\n",
       "    </tr>\n",
       "    <tr>\n",
       "      <th>43</th>\n",
       "      <td>Global Switch</td>\n",
       "      <td>$11B</td>\n",
       "      <td>12/22/16</td>\n",
       "      <td>Hardware</td>\n",
       "      <td>London</td>\n",
       "      <td>United Kingdom</td>\n",
       "      <td>Europe</td>\n",
       "      <td>1998</td>\n",
       "      <td>$5B</td>\n",
       "      <td>Aviation Industry Corporation of China, Essenc...</td>\n",
       "      <td>2016</td>\n",
       "      <td>11</td>\n",
       "    </tr>\n",
       "    <tr>\n",
       "      <th>147</th>\n",
       "      <td>Chipone</td>\n",
       "      <td>$5B</td>\n",
       "      <td>12/16/21</td>\n",
       "      <td>Hardware</td>\n",
       "      <td>Beijing</td>\n",
       "      <td>China</td>\n",
       "      <td>Asia</td>\n",
       "      <td>2008</td>\n",
       "      <td>$1B</td>\n",
       "      <td>China Grand Prosperity Investment, Silk Road H...</td>\n",
       "      <td>2021</td>\n",
       "      <td>5</td>\n",
       "    </tr>\n",
       "    <tr>\n",
       "      <th>845</th>\n",
       "      <td>Density</td>\n",
       "      <td>$1B</td>\n",
       "      <td>11/10/21</td>\n",
       "      <td>Hardware</td>\n",
       "      <td>San Francisco</td>\n",
       "      <td>United States</td>\n",
       "      <td>North America</td>\n",
       "      <td>2014</td>\n",
       "      <td>$217M</td>\n",
       "      <td>Founders Fund, Upfront Ventures, 01 Advisors</td>\n",
       "      <td>2021</td>\n",
       "      <td>1</td>\n",
       "    </tr>\n",
       "    <tr>\n",
       "      <th>873</th>\n",
       "      <td>BenevolentAI</td>\n",
       "      <td>$1B</td>\n",
       "      <td>6/2/15</td>\n",
       "      <td>Artificial intelligence</td>\n",
       "      <td>London</td>\n",
       "      <td>United Kingdom</td>\n",
       "      <td>Europe</td>\n",
       "      <td>2013</td>\n",
       "      <td>$292M</td>\n",
       "      <td>Woodford Investment Management</td>\n",
       "      <td>2015</td>\n",
       "      <td>1</td>\n",
       "    </tr>\n",
       "    <tr>\n",
       "      <th>923</th>\n",
       "      <td>Geek+</td>\n",
       "      <td>$1B</td>\n",
       "      <td>11/21/18</td>\n",
       "      <td>Hardware</td>\n",
       "      <td>Beijing</td>\n",
       "      <td>China</td>\n",
       "      <td>Asia</td>\n",
       "      <td>2015</td>\n",
       "      <td>$439M</td>\n",
       "      <td>Volcanics Ventures, Vertex Ventures China, War...</td>\n",
       "      <td>2018</td>\n",
       "      <td>1</td>\n",
       "    </tr>\n",
       "    <tr>\n",
       "      <th>1040</th>\n",
       "      <td>TERMINUS Technology</td>\n",
       "      <td>$1B</td>\n",
       "      <td>10/25/18</td>\n",
       "      <td>Hardware</td>\n",
       "      <td>Beijing</td>\n",
       "      <td>China</td>\n",
       "      <td>Asia</td>\n",
       "      <td>2015</td>\n",
       "      <td>$623M</td>\n",
       "      <td>China Everbright Limited, IDG Capital, iFLYTEK</td>\n",
       "      <td>2018</td>\n",
       "      <td>1</td>\n",
       "    </tr>\n",
       "    <tr>\n",
       "      <th>1046</th>\n",
       "      <td>Tractable</td>\n",
       "      <td>$1B</td>\n",
       "      <td>6/16/21</td>\n",
       "      <td>Artificial intelligence</td>\n",
       "      <td>London</td>\n",
       "      <td>United Kingdom</td>\n",
       "      <td>Europe</td>\n",
       "      <td>2014</td>\n",
       "      <td>$120M</td>\n",
       "      <td>Insight Partners, Ignition Partners, Georgian ...</td>\n",
       "      <td>2021</td>\n",
       "      <td>1</td>\n",
       "    </tr>\n",
       "  </tbody>\n",
       "</table>\n",
       "</div>"
      ],
      "text/plain": [
       "                  Company Valuation Date Joined                 Industry  \\\n",
       "36                Bitmain      $12B      7/6/18                 Hardware   \n",
       "43          Global Switch      $11B    12/22/16                 Hardware   \n",
       "147               Chipone       $5B    12/16/21                 Hardware   \n",
       "845               Density       $1B    11/10/21                 Hardware   \n",
       "873          BenevolentAI       $1B      6/2/15  Artificial intelligence   \n",
       "923                 Geek+       $1B    11/21/18                 Hardware   \n",
       "1040  TERMINUS Technology       $1B    10/25/18                 Hardware   \n",
       "1046            Tractable       $1B     6/16/21  Artificial intelligence   \n",
       "\n",
       "               City  Country/Region      Continent  Year Founded Funding  \\\n",
       "36          Beijing           China           Asia          2015   $765M   \n",
       "43           London  United Kingdom         Europe          1998     $5B   \n",
       "147         Beijing           China           Asia          2008     $1B   \n",
       "845   San Francisco   United States  North America          2014   $217M   \n",
       "873          London  United Kingdom         Europe          2013   $292M   \n",
       "923         Beijing           China           Asia          2015   $439M   \n",
       "1040        Beijing           China           Asia          2015   $623M   \n",
       "1046         London  United Kingdom         Europe          2014   $120M   \n",
       "\n",
       "                                       Select Investors  Year Joined  \\\n",
       "36    Coatue Management, Sequoia Capital China, IDG ...         2018   \n",
       "43    Aviation Industry Corporation of China, Essenc...         2016   \n",
       "147   China Grand Prosperity Investment, Silk Road H...         2021   \n",
       "845        Founders Fund, Upfront Ventures, 01 Advisors         2021   \n",
       "873                      Woodford Investment Management         2015   \n",
       "923   Volcanics Ventures, Vertex Ventures China, War...         2018   \n",
       "1040     China Everbright Limited, IDG Capital, iFLYTEK         2018   \n",
       "1046  Insight Partners, Ignition Partners, Georgian ...         2021   \n",
       "\n",
       "      Valuation_num  \n",
       "36               12  \n",
       "43               11  \n",
       "147               5  \n",
       "845               1  \n",
       "873               1  \n",
       "923               1  \n",
       "1040              1  \n",
       "1046              1  "
      ]
     },
     "execution_count": 40,
     "metadata": {},
     "output_type": "execute_result"
    }
   ],
   "source": [
    "df_invest = df_companies[mask]\n",
    "df_invest.head(10)"
   ]
  },
  {
   "cell_type": "code",
   "execution_count": 41,
   "id": "c2dfafc1",
   "metadata": {},
   "outputs": [
    {
     "data": {
      "text/html": [
       "<div>\n",
       "<style scoped>\n",
       "    .dataframe tbody tr th:only-of-type {\n",
       "        vertical-align: middle;\n",
       "    }\n",
       "\n",
       "    .dataframe tbody tr th {\n",
       "        vertical-align: top;\n",
       "    }\n",
       "\n",
       "    .dataframe thead th {\n",
       "        text-align: right;\n",
       "    }\n",
       "</style>\n",
       "<table border=\"1\" class=\"dataframe\">\n",
       "  <thead>\n",
       "    <tr style=\"text-align: right;\">\n",
       "      <th></th>\n",
       "      <th>Country/Region</th>\n",
       "      <th>Valuation_num</th>\n",
       "    </tr>\n",
       "  </thead>\n",
       "  <tbody>\n",
       "    <tr>\n",
       "      <th>0</th>\n",
       "      <td>United States</td>\n",
       "      <td>1933</td>\n",
       "    </tr>\n",
       "    <tr>\n",
       "      <th>1</th>\n",
       "      <td>China</td>\n",
       "      <td>696</td>\n",
       "    </tr>\n",
       "    <tr>\n",
       "      <th>2</th>\n",
       "      <td>India</td>\n",
       "      <td>196</td>\n",
       "    </tr>\n",
       "    <tr>\n",
       "      <th>3</th>\n",
       "      <td>United Kingdom</td>\n",
       "      <td>195</td>\n",
       "    </tr>\n",
       "    <tr>\n",
       "      <th>4</th>\n",
       "      <td>Germany</td>\n",
       "      <td>72</td>\n",
       "    </tr>\n",
       "    <tr>\n",
       "      <th>5</th>\n",
       "      <td>Sweden</td>\n",
       "      <td>63</td>\n",
       "    </tr>\n",
       "    <tr>\n",
       "      <th>6</th>\n",
       "      <td>Australia</td>\n",
       "      <td>56</td>\n",
       "    </tr>\n",
       "    <tr>\n",
       "      <th>7</th>\n",
       "      <td>France</td>\n",
       "      <td>55</td>\n",
       "    </tr>\n",
       "    <tr>\n",
       "      <th>8</th>\n",
       "      <td>Canada</td>\n",
       "      <td>49</td>\n",
       "    </tr>\n",
       "    <tr>\n",
       "      <th>9</th>\n",
       "      <td>South Korea</td>\n",
       "      <td>41</td>\n",
       "    </tr>\n",
       "    <tr>\n",
       "      <th>10</th>\n",
       "      <td>Israel</td>\n",
       "      <td>39</td>\n",
       "    </tr>\n",
       "    <tr>\n",
       "      <th>11</th>\n",
       "      <td>Brazil</td>\n",
       "      <td>37</td>\n",
       "    </tr>\n",
       "    <tr>\n",
       "      <th>12</th>\n",
       "      <td>Bahamas</td>\n",
       "      <td>32</td>\n",
       "    </tr>\n",
       "    <tr>\n",
       "      <th>13</th>\n",
       "      <td>Indonesia</td>\n",
       "      <td>28</td>\n",
       "    </tr>\n",
       "    <tr>\n",
       "      <th>14</th>\n",
       "      <td>Singapore</td>\n",
       "      <td>21</td>\n",
       "    </tr>\n",
       "  </tbody>\n",
       "</table>\n",
       "</div>"
      ],
      "text/plain": [
       "    Country/Region  Valuation_num\n",
       "0    United States           1933\n",
       "1            China            696\n",
       "2            India            196\n",
       "3   United Kingdom            195\n",
       "4          Germany             72\n",
       "5           Sweden             63\n",
       "6        Australia             56\n",
       "7           France             55\n",
       "8           Canada             49\n",
       "9      South Korea             41\n",
       "10          Israel             39\n",
       "11          Brazil             37\n",
       "12         Bahamas             32\n",
       "13       Indonesia             28\n",
       "14       Singapore             21"
      ]
     },
     "execution_count": 41,
     "metadata": {},
     "output_type": "execute_result"
    }
   ],
   "source": [
    "national_valuation = df_companies.groupby(['Country/Region'])['Valuation_num'].sum().sort_values(ascending=False).reset_index()\n",
    "national_valuation.head(15)"
   ]
  },
  {
   "cell_type": "code",
   "execution_count": 43,
   "id": "8d42c212",
   "metadata": {},
   "outputs": [
    {
     "data": {
      "text/html": [
       "<div>\n",
       "<style scoped>\n",
       "    .dataframe tbody tr th:only-of-type {\n",
       "        vertical-align: middle;\n",
       "    }\n",
       "\n",
       "    .dataframe tbody tr th {\n",
       "        vertical-align: top;\n",
       "    }\n",
       "\n",
       "    .dataframe thead th {\n",
       "        text-align: right;\n",
       "    }\n",
       "</style>\n",
       "<table border=\"1\" class=\"dataframe\">\n",
       "  <thead>\n",
       "    <tr style=\"text-align: right;\">\n",
       "      <th></th>\n",
       "      <th>Country/Region</th>\n",
       "      <th>Valuation_num</th>\n",
       "    </tr>\n",
       "  </thead>\n",
       "  <tbody>\n",
       "    <tr>\n",
       "      <th>4</th>\n",
       "      <td>Germany</td>\n",
       "      <td>72</td>\n",
       "    </tr>\n",
       "    <tr>\n",
       "      <th>5</th>\n",
       "      <td>Sweden</td>\n",
       "      <td>63</td>\n",
       "    </tr>\n",
       "    <tr>\n",
       "      <th>6</th>\n",
       "      <td>Australia</td>\n",
       "      <td>56</td>\n",
       "    </tr>\n",
       "    <tr>\n",
       "      <th>7</th>\n",
       "      <td>France</td>\n",
       "      <td>55</td>\n",
       "    </tr>\n",
       "    <tr>\n",
       "      <th>8</th>\n",
       "      <td>Canada</td>\n",
       "      <td>49</td>\n",
       "    </tr>\n",
       "  </tbody>\n",
       "</table>\n",
       "</div>"
      ],
      "text/plain": [
       "  Country/Region  Valuation_num\n",
       "4        Germany             72\n",
       "5         Sweden             63\n",
       "6      Australia             56\n",
       "7         France             55\n",
       "8         Canada             49"
      ]
     },
     "execution_count": 43,
     "metadata": {},
     "output_type": "execute_result"
    }
   ],
   "source": [
    "national_valuation_no_big4 = national_valuation.iloc[4:,:]\n",
    "national_valuation_no_big4.head()"
   ]
  },
  {
   "cell_type": "code",
   "execution_count": 45,
   "id": "801dc0af",
   "metadata": {},
   "outputs": [
    {
     "data": {
      "text/html": [
       "<div>\n",
       "<style scoped>\n",
       "    .dataframe tbody tr th:only-of-type {\n",
       "        vertical-align: middle;\n",
       "    }\n",
       "\n",
       "    .dataframe tbody tr th {\n",
       "        vertical-align: top;\n",
       "    }\n",
       "\n",
       "    .dataframe thead th {\n",
       "        text-align: right;\n",
       "    }\n",
       "</style>\n",
       "<table border=\"1\" class=\"dataframe\">\n",
       "  <thead>\n",
       "    <tr style=\"text-align: right;\">\n",
       "      <th></th>\n",
       "      <th>Country/Region</th>\n",
       "      <th>Valuation_num</th>\n",
       "    </tr>\n",
       "  </thead>\n",
       "  <tbody>\n",
       "    <tr>\n",
       "      <th>4</th>\n",
       "      <td>Germany</td>\n",
       "      <td>72</td>\n",
       "    </tr>\n",
       "    <tr>\n",
       "      <th>5</th>\n",
       "      <td>Sweden</td>\n",
       "      <td>63</td>\n",
       "    </tr>\n",
       "    <tr>\n",
       "      <th>6</th>\n",
       "      <td>Australia</td>\n",
       "      <td>56</td>\n",
       "    </tr>\n",
       "    <tr>\n",
       "      <th>7</th>\n",
       "      <td>France</td>\n",
       "      <td>55</td>\n",
       "    </tr>\n",
       "    <tr>\n",
       "      <th>8</th>\n",
       "      <td>Canada</td>\n",
       "      <td>49</td>\n",
       "    </tr>\n",
       "  </tbody>\n",
       "</table>\n",
       "</div>"
      ],
      "text/plain": [
       "  Country/Region  Valuation_num\n",
       "4        Germany             72\n",
       "5         Sweden             63\n",
       "6      Australia             56\n",
       "7         France             55\n",
       "8         Canada             49"
      ]
     },
     "execution_count": 45,
     "metadata": {},
     "output_type": "execute_result"
    }
   ],
   "source": [
    "mask = ~national_valuation['Country/Region'].isin(['United States', 'China', 'India', 'United Kingdom'])\n",
    "national_valuations_no_big4 = national_valuation[mask]\n",
    "national_valuation_no_big4.head()"
   ]
  },
  {
   "cell_type": "code",
   "execution_count": 46,
   "id": "1a68a793",
   "metadata": {},
   "outputs": [
    {
     "data": {
      "image/png": "[encoded data removed]",
      "text/plain": [
       "<Figure size 640x480 with 1 Axes>"
      ]
     },
     "metadata": {},
     "output_type": "display_data"
    }
   ],
   "source": [
    "sns.barplot(data=national_valuation_no_big4.head(20),\n",
    "            y='Country/Region',\n",
    "            x='Valuation_num')\n",
    "plt.title('Top 20 non-big-4 countries by total company valuation')\n",
    "plt.show();"
   ]
  },
  {
   "cell_type": "code",
   "execution_count": 50,
   "id": "18135f3a",
   "metadata": {},
   "outputs": [
    {
     "data": {
      "application/vnd.plotly.v1+json": {
       "config": {
        "plotlyServerURL": "https://plot.ly"
       },
       "data": [
        {
         "geo": "geo",
         "hovertemplate": "Country/Region=%{location}<br>Valuation_num=%{marker.size}<extra></extra>",
         "legendgroup": "Germany",
         "locationmode": "country names",
         "locations": [
          "Germany"
         ],
         "marker": {
          "color": "#636efa",
          "size": [
           72
          ],
          "sizemode": "area",
          "sizeref": 0.18,
          "symbol": "circle"
         },
         "mode": "markers",
         "name": "Germany",
         "showlegend": true,
         "type": "scattergeo"
        },
        {
         "geo": "geo",
         "hovertemplate": "Country/Region=%{location}<br>Valuation_num=%{marker.size}<extra></extra>",
         "legendgroup": "Sweden",
         "locationmode": "country names",
         "locations": [
          "Sweden"
         ],
         "marker": {
          "color": "#EF553B",
          "size": [
           63
          ],
          "sizemode": "area",
          "sizeref": 0.18,
          "symbol": "circle"
         },
         "mode": "markers",
         "name": "Sweden",
         "showlegend": true,
         "type": "scattergeo"
        },
        {
         "geo": "geo",
         "hovertemplate": "Country/Region=%{location}<br>Valuation_num=%{marker.size}<extra></extra>",
         "legendgroup": "Australia",
         "locationmode": "country names",
         "locations": [
          "Australia"
         ],
         "marker": {
          "color": "#00cc96",
          "size": [
           56
          ],
          "sizemode": "area",
          "sizeref": 0.18,
          "symbol": "circle"
         },
         "mode": "markers",
         "name": "Australia",
         "showlegend": true,
         "type": "scattergeo"
        },
        {
         "geo": "geo",
         "hovertemplate": "Country/Region=%{location}<br>Valuation_num=%{marker.size}<extra></extra>",
         "legendgroup": "France",
         "locationmode": "country names",
         "locations": [
          "France"
         ],
         "marker": {
          "color": "#ab63fa",
          "size": [
           55
          ],
          "sizemode": "area",
          "sizeref": 0.18,
          "symbol": "circle"
         },
         "mode": "markers",
         "name": "France",
         "showlegend": true,
         "type": "scattergeo"
        },
        {
         "geo": "geo",
         "hovertemplate": "Country/Region=%{location}<br>Valuation_num=%{marker.size}<extra></extra>",
         "legendgroup": "Canada",
         "locationmode": "country names",
         "locations": [
          "Canada"
         ],
         "marker": {
          "color": "#FFA15A",
          "size": [
           49
          ],
          "sizemode": "area",
          "sizeref": 0.18,
          "symbol": "circle"
         },
         "mode": "markers",
         "name": "Canada",
         "showlegend": true,
         "type": "scattergeo"
        },
        {
         "geo": "geo",
         "hovertemplate": "Country/Region=%{location}<br>Valuation_num=%{marker.size}<extra></extra>",
         "legendgroup": "South Korea",
         "locationmode": "country names",
         "locations": [
          "South Korea"
         ],
         "marker": {
          "color": "#19d3f3",
          "size": [
           41
          ],
          "sizemode": "area",
          "sizeref": 0.18,
          "symbol": "circle"
         },
         "mode": "markers",
         "name": "South Korea",
         "showlegend": true,
         "type": "scattergeo"
        },
        {
         "geo": "geo",
         "hovertemplate": "Country/Region=%{location}<br>Valuation_num=%{marker.size}<extra></extra>",
         "legendgroup": "Israel",
         "locationmode": "country names",
         "locations": [
          "Israel"
         ],
         "marker": {
          "color": "#FF6692",
          "size": [
           39
          ],
          "sizemode": "area",
          "sizeref": 0.18,
          "symbol": "circle"
         },
         "mode": "markers",
         "name": "Israel",
         "showlegend": true,
         "type": "scattergeo"
        },
        {
         "geo": "geo",
         "hovertemplate": "Country/Region=%{location}<br>Valuation_num=%{marker.size}<extra></extra>",
         "legendgroup": "Brazil",
         "locationmode": "country names",
         "locations": [
          "Brazil"
         ],
         "marker": {
          "color": "#B6E880",
          "size": [
           37
          ],
          "sizemode": "area",
          "sizeref": 0.18,
          "symbol": "circle"
         },
         "mode": "markers",
         "name": "Brazil",
         "showlegend": true,
         "type": "scattergeo"
        },
        {
         "geo": "geo",
         "hovertemplate": "Country/Region=%{location}<br>Valuation_num=%{marker.size}<extra></extra>",
         "legendgroup": "Bahamas",
         "locationmode": "country names",
         "locations": [
          "Bahamas"
         ],
         "marker": {
          "color": "#FF97FF",
          "size": [
           32
          ],
          "sizemode": "area",
          "sizeref": 0.18,
          "symbol": "circle"
         },
         "mode": "markers",
         "name": "Bahamas",
         "showlegend": true,
         "type": "scattergeo"
        },
        {
         "geo": "geo",
         "hovertemplate": "Country/Region=%{location}<br>Valuation_num=%{marker.size}<extra></extra>",
         "legendgroup": "Indonesia",
         "locationmode": "country names",
         "locations": [
          "Indonesia"
         ],
         "marker": {
          "color": "#FECB52",
          "size": [
           28
          ],
          "sizemode": "area",
          "sizeref": 0.18,
          "symbol": "circle"
         },
         "mode": "markers",
         "name": "Indonesia",
         "showlegend": true,
         "type": "scattergeo"
        },
        {
         "geo": "geo",
         "hovertemplate": "Country/Region=%{location}<br>Valuation_num=%{marker.size}<extra></extra>",
         "legendgroup": "Singapore",
         "locationmode": "country names",
         "locations": [
          "Singapore"
         ],
         "marker": {
          "color": "#636efa",
          "size": [
           21
          ],
          "sizemode": "area",
          "sizeref": 0.18,
          "symbol": "circle"
         },
         "mode": "markers",
         "name": "Singapore",
         "showlegend": true,
         "type": "scattergeo"
        },
        {
         "geo": "geo",
         "hovertemplate": "Country/Region=%{location}<br>Valuation_num=%{marker.size}<extra></extra>",
         "legendgroup": "Netherlands",
         "locationmode": "country names",
         "locations": [
          "Netherlands"
         ],
         "marker": {
          "color": "#EF553B",
          "size": [
           19
          ],
          "sizemode": "area",
          "sizeref": 0.18,
          "symbol": "circle"
         },
         "mode": "markers",
         "name": "Netherlands",
         "showlegend": true,
         "type": "scattergeo"
        },
        {
         "geo": "geo",
         "hovertemplate": "Country/Region=%{location}<br>Valuation_num=%{marker.size}<extra></extra>",
         "legendgroup": "Hong Kong",
         "locationmode": "country names",
         "locations": [
          "Hong Kong"
         ],
         "marker": {
          "color": "#00cc96",
          "size": [
           18
          ],
          "sizemode": "area",
          "sizeref": 0.18,
          "symbol": "circle"
         },
         "mode": "markers",
         "name": "Hong Kong",
         "showlegend": true,
         "type": "scattergeo"
        },
        {
         "geo": "geo",
         "hovertemplate": "Country/Region=%{location}<br>Valuation_num=%{marker.size}<extra></extra>",
         "legendgroup": "Turkey",
         "locationmode": "country names",
         "locations": [
          "Turkey"
         ],
         "marker": {
          "color": "#ab63fa",
          "size": [
           16
          ],
          "sizemode": "area",
          "sizeref": 0.18,
          "symbol": "circle"
         },
         "mode": "markers",
         "name": "Turkey",
         "showlegend": true,
         "type": "scattergeo"
        },
        {
         "geo": "geo",
         "hovertemplate": "Country/Region=%{location}<br>Valuation_num=%{marker.size}<extra></extra>",
         "legendgroup": "Mexico",
         "locationmode": "country names",
         "locations": [
          "Mexico"
         ],
         "marker": {
          "color": "#FFA15A",
          "size": [
           16
          ],
          "sizemode": "area",
          "sizeref": 0.18,
          "symbol": "circle"
         },
         "mode": "markers",
         "name": "Mexico",
         "showlegend": true,
         "type": "scattergeo"
        },
        {
         "geo": "geo",
         "hovertemplate": "Country/Region=%{location}<br>Valuation_num=%{marker.size}<extra></extra>",
         "legendgroup": "Estonia",
         "locationmode": "country names",
         "locations": [
          "Estonia"
         ],
         "marker": {
          "color": "#19d3f3",
          "size": [
           13
          ],
          "sizemode": "area",
          "sizeref": 0.18,
          "symbol": "circle"
         },
         "mode": "markers",
         "name": "Estonia",
         "showlegend": true,
         "type": "scattergeo"
        },
        {
         "geo": "geo",
         "hovertemplate": "Country/Region=%{location}<br>Valuation_num=%{marker.size}<extra></extra>",
         "legendgroup": "Finland",
         "locationmode": "country names",
         "locations": [
          "Finland"
         ],
         "marker": {
          "color": "#FF6692",
          "size": [
           12
          ],
          "sizemode": "area",
          "sizeref": 0.18,
          "symbol": "circle"
         },
         "mode": "markers",
         "name": "Finland",
         "showlegend": true,
         "type": "scattergeo"
        },
        {
         "geo": "geo",
         "hovertemplate": "Country/Region=%{location}<br>Valuation_num=%{marker.size}<extra></extra>",
         "legendgroup": "Ireland",
         "locationmode": "country names",
         "locations": [
          "Ireland"
         ],
         "marker": {
          "color": "#B6E880",
          "size": [
           9
          ],
          "sizemode": "area",
          "sizeref": 0.18,
          "symbol": "circle"
         },
         "mode": "markers",
         "name": "Ireland",
         "showlegend": true,
         "type": "scattergeo"
        },
        {
         "geo": "geo",
         "hovertemplate": "Country/Region=%{location}<br>Valuation_num=%{marker.size}<extra></extra>",
         "legendgroup": "Switzerland",
         "locationmode": "country names",
         "locations": [
          "Switzerland"
         ],
         "marker": {
          "color": "#FF97FF",
          "size": [
           8
          ],
          "sizemode": "area",
          "sizeref": 0.18,
          "symbol": "circle"
         },
         "mode": "markers",
         "name": "Switzerland",
         "showlegend": true,
         "type": "scattergeo"
        },
        {
         "geo": "geo",
         "hovertemplate": "Country/Region=%{location}<br>Valuation_num=%{marker.size}<extra></extra>",
         "legendgroup": "Japan",
         "locationmode": "country names",
         "locations": [
          "Japan"
         ],
         "marker": {
          "color": "#FECB52",
          "size": [
           8
          ],
          "sizemode": "area",
          "sizeref": 0.18,
          "symbol": "circle"
         },
         "mode": "markers",
         "name": "Japan",
         "showlegend": true,
         "type": "scattergeo"
        },
        {
         "geo": "geo",
         "hovertemplate": "Country/Region=%{location}<br>Valuation_num=%{marker.size}<extra></extra>",
         "legendgroup": "Belgium",
         "locationmode": "country names",
         "locations": [
          "Belgium"
         ],
         "marker": {
          "color": "#636efa",
          "size": [
           8
          ],
          "sizemode": "area",
          "sizeref": 0.18,
          "symbol": "circle"
         },
         "mode": "markers",
         "name": "Belgium",
         "showlegend": true,
         "type": "scattergeo"
        },
        {
         "geo": "geo",
         "hovertemplate": "Country/Region=%{location}<br>Valuation_num=%{marker.size}<extra></extra>",
         "legendgroup": "Denmark",
         "locationmode": "country names",
         "locations": [
          "Denmark"
         ],
         "marker": {
          "color": "#EF553B",
          "size": [
           7
          ],
          "sizemode": "area",
          "sizeref": 0.18,
          "symbol": "circle"
         },
         "mode": "markers",
         "name": "Denmark",
         "showlegend": true,
         "type": "scattergeo"
        },
        {
         "geo": "geo",
         "hovertemplate": "Country/Region=%{location}<br>Valuation_num=%{marker.size}<extra></extra>",
         "legendgroup": "Austria",
         "locationmode": "country names",
         "locations": [
          "Austria"
         ],
         "marker": {
          "color": "#00cc96",
          "size": [
           7
          ],
          "sizemode": "area",
          "sizeref": 0.18,
          "symbol": "circle"
         },
         "mode": "markers",
         "name": "Austria",
         "showlegend": true,
         "type": "scattergeo"
        },
        {
         "geo": "geo",
         "hovertemplate": "Country/Region=%{location}<br>Valuation_num=%{marker.size}<extra></extra>",
         "legendgroup": "Colombia",
         "locationmode": "country names",
         "locations": [
          "Colombia"
         ],
         "marker": {
          "color": "#ab63fa",
          "size": [
           6
          ],
          "sizemode": "area",
          "sizeref": 0.18,
          "symbol": "circle"
         },
         "mode": "markers",
         "name": "Colombia",
         "showlegend": true,
         "type": "scattergeo"
        },
        {
         "geo": "geo",
         "hovertemplate": "Country/Region=%{location}<br>Valuation_num=%{marker.size}<extra></extra>",
         "legendgroup": "Norway",
         "locationmode": "country names",
         "locations": [
          "Norway"
         ],
         "marker": {
          "color": "#FFA15A",
          "size": [
           5
          ],
          "sizemode": "area",
          "sizeref": 0.18,
          "symbol": "circle"
         },
         "mode": "markers",
         "name": "Norway",
         "showlegend": true,
         "type": "scattergeo"
        },
        {
         "geo": "geo",
         "hovertemplate": "Country/Region=%{location}<br>Valuation_num=%{marker.size}<extra></extra>",
         "legendgroup": "Vietnam",
         "locationmode": "country names",
         "locations": [
          "Vietnam"
         ],
         "marker": {
          "color": "#19d3f3",
          "size": [
           5
          ],
          "sizemode": "area",
          "sizeref": 0.18,
          "symbol": "circle"
         },
         "mode": "markers",
         "name": "Vietnam",
         "showlegend": true,
         "type": "scattergeo"
        },
        {
         "geo": "geo",
         "hovertemplate": "Country/Region=%{location}<br>Valuation_num=%{marker.size}<extra></extra>",
         "legendgroup": "Lithuania",
         "locationmode": "country names",
         "locations": [
          "Lithuania"
         ],
         "marker": {
          "color": "#FF6692",
          "size": [
           5
          ],
          "sizemode": "area",
          "sizeref": 0.18,
          "symbol": "circle"
         },
         "mode": "markers",
         "name": "Lithuania",
         "showlegend": true,
         "type": "scattergeo"
        },
        {
         "geo": "geo",
         "hovertemplate": "Country/Region=%{location}<br>Valuation_num=%{marker.size}<extra></extra>",
         "legendgroup": "United Arab Emirates",
         "locationmode": "country names",
         "locations": [
          "United Arab Emirates"
         ],
         "marker": {
          "color": "#B6E880",
          "size": [
           5
          ],
          "sizemode": "area",
          "sizeref": 0.18,
          "symbol": "circle"
         },
         "mode": "markers",
         "name": "United Arab Emirates",
         "showlegend": true,
         "type": "scattergeo"
        },
        {
         "geo": "geo",
         "hovertemplate": "Country/Region=%{location}<br>Valuation_num=%{marker.size}<extra></extra>",
         "legendgroup": "Spain",
         "locationmode": "country names",
         "locations": [
          "Spain"
         ],
         "marker": {
          "color": "#FF97FF",
          "size": [
           4
          ],
          "sizemode": "area",
          "sizeref": 0.18,
          "symbol": "circle"
         },
         "mode": "markers",
         "name": "Spain",
         "showlegend": true,
         "type": "scattergeo"
        },
        {
         "geo": "geo",
         "hovertemplate": "Country/Region=%{location}<br>Valuation_num=%{marker.size}<extra></extra>",
         "legendgroup": "Chile",
         "locationmode": "country names",
         "locations": [
          "Chile"
         ],
         "marker": {
          "color": "#FECB52",
          "size": [
           3
          ],
          "sizemode": "area",
          "sizeref": 0.18,
          "symbol": "circle"
         },
         "mode": "markers",
         "name": "Chile",
         "showlegend": true,
         "type": "scattergeo"
        },
        {
         "geo": "geo",
         "hovertemplate": "Country/Region=%{location}<br>Valuation_num=%{marker.size}<extra></extra>",
         "legendgroup": "Philippines",
         "locationmode": "country names",
         "locations": [
          "Philippines"
         ],
         "marker": {
          "color": "#636efa",
          "size": [
           3
          ],
          "sizemode": "area",
          "sizeref": 0.18,
          "symbol": "circle"
         },
         "mode": "markers",
         "name": "Philippines",
         "showlegend": true,
         "type": "scattergeo"
        },
        {
         "geo": "geo",
         "hovertemplate": "Country/Region=%{location}<br>Valuation_num=%{marker.size}<extra></extra>",
         "legendgroup": "South Africa",
         "locationmode": "country names",
         "locations": [
          "South Africa"
         ],
         "marker": {
          "color": "#EF553B",
          "size": [
           3
          ],
          "sizemode": "area",
          "sizeref": 0.18,
          "symbol": "circle"
         },
         "mode": "markers",
         "name": "South Africa",
         "showlegend": true,
         "type": "scattergeo"
        },
        {
         "geo": "geo",
         "hovertemplate": "Country/Region=%{location}<br>Valuation_num=%{marker.size}<extra></extra>",
         "legendgroup": "Thailand",
         "locationmode": "country names",
         "locations": [
          "Thailand"
         ],
         "marker": {
          "color": "#00cc96",
          "size": [
           3
          ],
          "sizemode": "area",
          "sizeref": 0.18,
          "symbol": "circle"
         },
         "mode": "markers",
         "name": "Thailand",
         "showlegend": true,
         "type": "scattergeo"
        },
        {
         "geo": "geo",
         "hovertemplate": "Country/Region=%{location}<br>Valuation_num=%{marker.size}<extra></extra>",
         "legendgroup": "Argentina",
         "locationmode": "country names",
         "locations": [
          "Argentina"
         ],
         "marker": {
          "color": "#ab63fa",
          "size": [
           2
          ],
          "sizemode": "area",
          "sizeref": 0.18,
          "symbol": "circle"
         },
         "mode": "markers",
         "name": "Argentina",
         "showlegend": true,
         "type": "scattergeo"
        },
        {
         "geo": "geo",
         "hovertemplate": "Country/Region=%{location}<br>Valuation_num=%{marker.size}<extra></extra>",
         "legendgroup": "Senegal",
         "locationmode": "country names",
         "locations": [
          "Senegal"
         ],
         "marker": {
          "color": "#FFA15A",
          "size": [
           2
          ],
          "sizemode": "area",
          "sizeref": 0.18,
          "symbol": "circle"
         },
         "mode": "markers",
         "name": "Senegal",
         "showlegend": true,
         "type": "scattergeo"
        },
        {
         "geo": "geo",
         "hovertemplate": "Country/Region=%{location}<br>Valuation_num=%{marker.size}<extra></extra>",
         "legendgroup": "Nigeria",
         "locationmode": "country names",
         "locations": [
          "Nigeria"
         ],
         "marker": {
          "color": "#19d3f3",
          "size": [
           2
          ],
          "sizemode": "area",
          "sizeref": 0.18,
          "symbol": "circle"
         },
         "mode": "markers",
         "name": "Nigeria",
         "showlegend": true,
         "type": "scattergeo"
        },
        {
         "geo": "geo",
         "hovertemplate": "Country/Region=%{location}<br>Valuation_num=%{marker.size}<extra></extra>",
         "legendgroup": "Malaysia",
         "locationmode": "country names",
         "locations": [
          "Malaysia"
         ],
         "marker": {
          "color": "#FF6692",
          "size": [
           2
          ],
          "sizemode": "area",
          "sizeref": 0.18,
          "symbol": "circle"
         },
         "mode": "markers",
         "name": "Malaysia",
         "showlegend": true,
         "type": "scattergeo"
        },
        {
         "geo": "geo",
         "hovertemplate": "Country/Region=%{location}<br>Valuation_num=%{marker.size}<extra></extra>",
         "legendgroup": "Luxembourg",
         "locationmode": "country names",
         "locations": [
          "Luxembourg"
         ],
         "marker": {
          "color": "#B6E880",
          "size": [
           2
          ],
          "sizemode": "area",
          "sizeref": 0.18,
          "symbol": "circle"
         },
         "mode": "markers",
         "name": "Luxembourg",
         "showlegend": true,
         "type": "scattergeo"
        },
        {
         "geo": "geo",
         "hovertemplate": "Country/Region=%{location}<br>Valuation_num=%{marker.size}<extra></extra>",
         "legendgroup": "Bermuda",
         "locationmode": "country names",
         "locations": [
          "Bermuda"
         ],
         "marker": {
          "color": "#FF97FF",
          "size": [
           2
          ],
          "sizemode": "area",
          "sizeref": 0.18,
          "symbol": "circle"
         },
         "mode": "markers",
         "name": "Bermuda",
         "showlegend": true,
         "type": "scattergeo"
        },
        {
         "geo": "geo",
         "hovertemplate": "Country/Region=%{location}<br>Valuation_num=%{marker.size}<extra></extra>",
         "legendgroup": "Czech Republic",
         "locationmode": "country names",
         "locations": [
          "Czech Republic"
         ],
         "marker": {
          "color": "#FECB52",
          "size": [
           1
          ],
          "sizemode": "area",
          "sizeref": 0.18,
          "symbol": "circle"
         },
         "mode": "markers",
         "name": "Czech Republic",
         "showlegend": true,
         "type": "scattergeo"
        },
        {
         "geo": "geo",
         "hovertemplate": "Country/Region=%{location}<br>Valuation_num=%{marker.size}<extra></extra>",
         "legendgroup": "Croatia",
         "locationmode": "country names",
         "locations": [
          "Croatia"
         ],
         "marker": {
          "color": "#636efa",
          "size": [
           1
          ],
          "sizemode": "area",
          "sizeref": 0.18,
          "symbol": "circle"
         },
         "mode": "markers",
         "name": "Croatia",
         "showlegend": true,
         "type": "scattergeo"
        },
        {
         "geo": "geo",
         "hovertemplate": "Country/Region=%{location}<br>Valuation_num=%{marker.size}<extra></extra>",
         "legendgroup": "Italy",
         "locationmode": "country names",
         "locations": [
          "Italy"
         ],
         "marker": {
          "color": "#EF553B",
          "size": [
           1
          ],
          "sizemode": "area",
          "sizeref": 0.18,
          "symbol": "circle"
         },
         "mode": "markers",
         "name": "Italy",
         "showlegend": true,
         "type": "scattergeo"
        }
       ],
       "layout": {
        "geo": {
         "center": {},
         "domain": {
          "x": [
           0,
           1
          ],
          "y": [
           0,
           1
          ]
         }
        },
        "legend": {
         "itemsizing": "constant",
         "title": {
          "text": "Country/Region"
         },
         "tracegroupgap": 0
        },
        "template": {
         "data": {
          "bar": [
           {
            "error_x": {
             "color": "#2a3f5f"
            },
            "error_y": {
             "color": "#2a3f5f"
            },
            "marker": {
             "line": {
              "color": "#E5ECF6",
              "width": 0.5
             },
             "pattern": {
              "fillmode": "overlay",
              "size": 10,
              "solidity": 0.2
             }
            },
            "type": "bar"
           }
          ],
          "barpolar": [
           {
            "marker": {
             "line": {
              "color": "#E5ECF6",
              "width": 0.5
             },
             "pattern": {
              "fillmode": "overlay",
              "size": 10,
              "solidity": 0.2
             }
            },
            "type": "barpolar"
           }
          ],
          "carpet": [
           {
            "aaxis": {
             "endlinecolor": "#2a3f5f",
             "gridcolor": "white",
             "linecolor": "white",
             "minorgridcolor": "white",
             "startlinecolor": "#2a3f5f"
            },
            "baxis": {
             "endlinecolor": "#2a3f5f",
             "gridcolor": "white",
             "linecolor": "white",
             "minorgridcolor": "white",
             "startlinecolor": "#2a3f5f"
            },
            "type": "carpet"
           }
          ],
          "choropleth": [
           {
            "colorbar": {
             "outlinewidth": 0,
             "ticks": ""
            },
            "type": "choropleth"
           }
          ],
          "contour": [
           {
            "colorbar": {
             "outlinewidth": 0,
             "ticks": ""
            },
            "colorscale": [
             [
              0,
              "#0d0887"
             ],
             [
              0.1111111111111111,
              "#46039f"
             ],
             [
              0.2222222222222222,
              "#7201a8"
             ],
             [
              0.3333333333333333,
              "#9c179e"
             ],
             [
              0.4444444444444444,
              "#bd3786"
             ],
             [
              0.5555555555555556,
              "#d8576b"
             ],
             [
              0.6666666666666666,
              "#ed7953"
             ],
             [
              0.7777777777777778,
              "#fb9f3a"
             ],
             [
              0.8888888888888888,
              "#fdca26"
             ],
             [
              1,
              "#f0f921"
             ]
            ],
            "type": "contour"
           }
          ],
          "contourcarpet": [
           {
            "colorbar": {
             "outlinewidth": 0,
             "ticks": ""
            },
            "type": "contourcarpet"
           }
          ],
          "heatmap": [
           {
            "colorbar": {
             "outlinewidth": 0,
             "ticks": ""
            },
            "colorscale": [
             [
              0,
              "#0d0887"
             ],
             [
              0.1111111111111111,
              "#46039f"
             ],
             [
              0.2222222222222222,
              "#7201a8"
             ],
             [
              0.3333333333333333,
              "#9c179e"
             ],
             [
              0.4444444444444444,
              "#bd3786"
             ],
             [
              0.5555555555555556,
              "#d8576b"
             ],
             [
              0.6666666666666666,
              "#ed7953"
             ],
             [
              0.7777777777777778,
              "#fb9f3a"
             ],
             [
              0.8888888888888888,
              "#fdca26"
             ],
             [
              1,
              "#f0f921"
             ]
            ],
            "type": "heatmap"
           }
          ],
          "heatmapgl": [
           {
            "colorbar": {
             "outlinewidth": 0,
             "ticks": ""
            },
            "colorscale": [
             [
              0,
              "#0d0887"
             ],
             [
              0.1111111111111111,
              "#46039f"
             ],
             [
              0.2222222222222222,
              "#7201a8"
             ],
             [
              0.3333333333333333,
              "#9c179e"
             ],
             [
              0.4444444444444444,
              "#bd3786"
             ],
             [
              0.5555555555555556,
              "#d8576b"
             ],
             [
              0.6666666666666666,
              "#ed7953"
             ],
             [
              0.7777777777777778,
              "#fb9f3a"
             ],
             [
              0.8888888888888888,
              "#fdca26"
             ],
             [
              1,
              "#f0f921"
             ]
            ],
            "type": "heatmapgl"
           }
          ],
          "histogram": [
           {
            "marker": {
             "pattern": {
              "fillmode": "overlay",
              "size": 10,
              "solidity": 0.2
             }
            },
            "type": "histogram"
           }
          ],
          "histogram2d": [
           {
            "colorbar": {
             "outlinewidth": 0,
             "ticks": ""
            },
            "colorscale": [
             [
              0,
              "#0d0887"
             ],
             [
              0.1111111111111111,
              "#46039f"
             ],
             [
              0.2222222222222222,
              "#7201a8"
             ],
             [
              0.3333333333333333,
              "#9c179e"
             ],
             [
              0.4444444444444444,
              "#bd3786"
             ],
             [
              0.5555555555555556,
              "#d8576b"
             ],
             [
              0.6666666666666666,
              "#ed7953"
             ],
             [
              0.7777777777777778,
              "#fb9f3a"
             ],
             [
              0.8888888888888888,
              "#fdca26"
             ],
             [
              1,
              "#f0f921"
             ]
            ],
            "type": "histogram2d"
           }
          ],
          "histogram2dcontour": [
           {
            "colorbar": {
             "outlinewidth": 0,
             "ticks": ""
            },
            "colorscale": [
             [
              0,
              "#0d0887"
             ],
             [
              0.1111111111111111,
              "#46039f"
             ],
             [
              0.2222222222222222,
              "#7201a8"
             ],
             [
              0.3333333333333333,
              "#9c179e"
             ],
             [
              0.4444444444444444,
              "#bd3786"
             ],
             [
              0.5555555555555556,
              "#d8576b"
             ],
             [
              0.6666666666666666,
              "#ed7953"
             ],
             [
              0.7777777777777778,
              "#fb9f3a"
             ],
             [
              0.8888888888888888,
              "#fdca26"
             ],
             [
              1,
              "#f0f921"
             ]
            ],
            "type": "histogram2dcontour"
           }
          ],
          "mesh3d": [
           {
            "colorbar": {
             "outlinewidth": 0,
             "ticks": ""
            },
            "type": "mesh3d"
           }
          ],
          "parcoords": [
           {
            "line": {
             "colorbar": {
              "outlinewidth": 0,
              "ticks": ""
             }
            },
            "type": "parcoords"
           }
          ],
          "pie": [
           {
            "automargin": true,
            "type": "pie"
           }
          ],
          "scatter": [
           {
            "fillpattern": {
             "fillmode": "overlay",
             "size": 10,
             "solidity": 0.2
            },
            "type": "scatter"
           }
          ],
          "scatter3d": [
           {
            "line": {
             "colorbar": {
              "outlinewidth": 0,
              "ticks": ""
             }
            },
            "marker": {
             "colorbar": {
              "outlinewidth": 0,
              "ticks": ""
             }
            },
            "type": "scatter3d"
           }
          ],
          "scattercarpet": [
           {
            "marker": {
             "colorbar": {
              "outlinewidth": 0,
              "ticks": ""
             }
            },
            "type": "scattercarpet"
           }
          ],
          "scattergeo": [
           {
            "marker": {
             "colorbar": {
              "outlinewidth": 0,
              "ticks": ""
             }
            },
            "type": "scattergeo"
           }
          ],
          "scattergl": [
           {
            "marker": {
             "colorbar": {
              "outlinewidth": 0,
              "ticks": ""
             }
            },
            "type": "scattergl"
           }
          ],
          "scattermapbox": [
           {
            "marker": {
             "colorbar": {
              "outlinewidth": 0,
              "ticks": ""
             }
            },
            "type": "scattermapbox"
           }
          ],
          "scatterpolar": [
           {
            "marker": {
             "colorbar": {
              "outlinewidth": 0,
              "ticks": ""
             }
            },
            "type": "scatterpolar"
           }
          ],
          "scatterpolargl": [
           {
            "marker": {
             "colorbar": {
              "outlinewidth": 0,
              "ticks": ""
             }
            },
            "type": "scatterpolargl"
           }
          ],
          "scatterternary": [
           {
            "marker": {
             "colorbar": {
              "outlinewidth": 0,
              "ticks": ""
             }
            },
            "type": "scatterternary"
           }
          ],
          "surface": [
           {
            "colorbar": {
             "outlinewidth": 0,
             "ticks": ""
            },
            "colorscale": [
             [
              0,
              "#0d0887"
             ],
             [
              0.1111111111111111,
              "#46039f"
             ],
             [
              0.2222222222222222,
              "#7201a8"
             ],
             [
              0.3333333333333333,
              "#9c179e"
             ],
             [
              0.4444444444444444,
              "#bd3786"
             ],
             [
              0.5555555555555556,
              "#d8576b"
             ],
             [
              0.6666666666666666,
              "#ed7953"
             ],
             [
              0.7777777777777778,
              "#fb9f3a"
             ],
             [
              0.8888888888888888,
              "#fdca26"
             ],
             [
              1,
              "#f0f921"
             ]
            ],
            "type": "surface"
           }
          ],
          "table": [
           {
            "cells": {
             "fill": {
              "color": "#EBF0F8"
             },
             "line": {
              "color": "white"
             }
            },
            "header": {
             "fill": {
              "color": "#C8D4E3"
             },
             "line": {
              "color": "white"
             }
            },
            "type": "table"
           }
          ]
         },
         "layout": {
          "annotationdefaults": {
           "arrowcolor": "#2a3f5f",
           "arrowhead": 0,
           "arrowwidth": 1
          },
          "autotypenumbers": "strict",
          "coloraxis": {
           "colorbar": {
            "outlinewidth": 0,
            "ticks": ""
           }
          },
          "colorscale": {
           "diverging": [
            [
             0,
             "#8e0152"
            ],
            [
             0.1,
             "#c51b7d"
            ],
            [
             0.2,
             "#de77ae"
            ],
            [
             0.3,
             "#f1b6da"
            ],
            [
             0.4,
             "#fde0ef"
            ],
            [
             0.5,
             "#f7f7f7"
            ],
            [
             0.6,
             "#e6f5d0"
            ],
            [
             0.7,
             "#b8e186"
            ],
            [
             0.8,
             "#7fbc41"
            ],
            [
             0.9,
             "#4d9221"
            ],
            [
             1,
             "#276419"
            ]
           ],
           "sequential": [
            [
             0,
             "#0d0887"
            ],
            [
             0.1111111111111111,
             "#46039f"
            ],
            [
             0.2222222222222222,
             "#7201a8"
            ],
            [
             0.3333333333333333,
             "#9c179e"
            ],
            [
             0.4444444444444444,
             "#bd3786"
            ],
            [
             0.5555555555555556,
             "#d8576b"
            ],
            [
             0.6666666666666666,
             "#ed7953"
            ],
            [
             0.7777777777777778,
             "#fb9f3a"
            ],
            [
             0.8888888888888888,
             "#fdca26"
            ],
            [
             1,
             "#f0f921"
            ]
           ],
           "sequentialminus": [
            [
             0,
             "#0d0887"
            ],
            [
             0.1111111111111111,
             "#46039f"
            ],
            [
             0.2222222222222222,
             "#7201a8"
            ],
            [
             0.3333333333333333,
             "#9c179e"
            ],
            [
             0.4444444444444444,
             "#bd3786"
            ],
            [
             0.5555555555555556,
             "#d8576b"
            ],
            [
             0.6666666666666666,
             "#ed7953"
            ],
            [
             0.7777777777777778,
             "#fb9f3a"
            ],
            [
             0.8888888888888888,
             "#fdca26"
            ],
            [
             1,
             "#f0f921"
            ]
           ]
          },
          "colorway": [
           "#636efa",
           "#EF553B",
           "#00cc96",
           "#ab63fa",
           "#FFA15A",
           "#19d3f3",
           "#FF6692",
           "#B6E880",
           "#FF97FF",
           "#FECB52"
          ],
          "font": {
           "color": "#2a3f5f"
          },
          "geo": {
           "bgcolor": "white",
           "lakecolor": "white",
           "landcolor": "#E5ECF6",
           "showlakes": true,
           "showland": true,
           "subunitcolor": "white"
          },
          "hoverlabel": {
           "align": "left"
          },
          "hovermode": "closest",
          "mapbox": {
           "style": "light"
          },
          "paper_bgcolor": "white",
          "plot_bgcolor": "#E5ECF6",
          "polar": {
           "angularaxis": {
            "gridcolor": "white",
            "linecolor": "white",
            "ticks": ""
           },
           "bgcolor": "#E5ECF6",
           "radialaxis": {
            "gridcolor": "white",
            "linecolor": "white",
            "ticks": ""
           }
          },
          "scene": {
           "xaxis": {
            "backgroundcolor": "#E5ECF6",
            "gridcolor": "white",
            "gridwidth": 2,
            "linecolor": "white",
            "showbackground": true,
            "ticks": "",
            "zerolinecolor": "white"
           },
           "yaxis": {
            "backgroundcolor": "#E5ECF6",
            "gridcolor": "white",
            "gridwidth": 2,
            "linecolor": "white",
            "showbackground": true,
            "ticks": "",
            "zerolinecolor": "white"
           },
           "zaxis": {
            "backgroundcolor": "#E5ECF6",
            "gridcolor": "white",
            "gridwidth": 2,
            "linecolor": "white",
            "showbackground": true,
            "ticks": "",
            "zerolinecolor": "white"
           }
          },
          "shapedefaults": {
           "line": {
            "color": "#2a3f5f"
           }
          },
          "ternary": {
           "aaxis": {
            "gridcolor": "white",
            "linecolor": "white",
            "ticks": ""
           },
           "baxis": {
            "gridcolor": "white",
            "linecolor": "white",
            "ticks": ""
           },
           "bgcolor": "#E5ECF6",
           "caxis": {
            "gridcolor": "white",
            "linecolor": "white",
            "ticks": ""
           }
          },
          "title": {
           "x": 0.05
          },
          "xaxis": {
           "automargin": true,
           "gridcolor": "white",
           "linecolor": "white",
           "ticks": "",
           "title": {
            "standoff": 15
           },
           "zerolinecolor": "white",
           "zerolinewidth": 2
          },
          "yaxis": {
           "automargin": true,
           "gridcolor": "white",
           "linecolor": "white",
           "ticks": "",
           "title": {
            "standoff": 15
           },
           "zerolinecolor": "white",
           "zerolinewidth": 2
          }
         }
        },
        "title": {
         "text": "Total company valuations by country (non-big-four)"
        }
       }
      },
      "text/html": [
       "<div>                            <div id=\"bddb041a-9406-4ab8-88b7-6d2058237054\" class=\"plotly-graph-div\" style=\"height:525px; width:100%;\"></div>            <script type=\"text/javascript\">                require([\"plotly\"], function(Plotly) {                    window.PLOTLYENV=window.PLOTLYENV || {};                                    if (document.getElementById(\"bddb041a-9406-4ab8-88b7-6d2058237054\")) {                    Plotly.newPlot(                        \"bddb041a-9406-4ab8-88b7-6d2058237054\",                        [{\"geo\":\"geo\",\"hovertemplate\":\"Country/Region=%{location}<br>Valuation_num=%{marker.size}<extra></extra>\",\"legendgroup\":\"Germany\",\"locationmode\":\"country names\",\"locations\":[\"Germany\"],\"marker\":{\"color\":\"#636efa\",\"size\":[72],\"sizemode\":\"area\",\"sizeref\":0.18,\"symbol\":\"circle\"},\"mode\":\"markers\",\"name\":\"Germany\",\"showlegend\":true,\"type\":\"scattergeo\"},{\"geo\":\"geo\",\"hovertemplate\":\"Country/Region=%{location}<br>Valuation_num=%{marker.size}<extra></extra>\",\"legendgroup\":\"Sweden\",\"locationmode\":\"country names\",\"locations\":[\"Sweden\"],\"marker\":{\"color\":\"#EF553B\",\"size\":[63],\"sizemode\":\"area\",\"sizeref\":0.18,\"symbol\":\"circle\"},\"mode\":\"markers\",\"name\":\"Sweden\",\"showlegend\":true,\"type\":\"scattergeo\"},{\"geo\":\"geo\",\"hovertemplate\":\"Country/Region=%{location}<br>Valuation_num=%{marker.size}<extra></extra>\",\"legendgroup\":\"Australia\",\"locationmode\":\"country names\",\"locations\":[\"Australia\"],\"marker\":{\"color\":\"#00cc96\",\"size\":[56],\"sizemode\":\"area\",\"sizeref\":0.18,\"symbol\":\"circle\"},\"mode\":\"markers\",\"name\":\"Australia\",\"showlegend\":true,\"type\":\"scattergeo\"},{\"geo\":\"geo\",\"hovertemplate\":\"Country/Region=%{location}<br>Valuation_num=%{marker.size}<extra></extra>\",\"legendgroup\":\"France\",\"locationmode\":\"country names\",\"locations\":[\"France\"],\"marker\":{\"color\":\"#ab63fa\",\"size\":[55],\"sizemode\":\"area\",\"sizeref\":0.18,\"symbol\":\"circle\"},\"mode\":\"markers\",\"name\":\"France\",\"showlegend\":true,\"type\":\"scattergeo\"},{\"geo\":\"geo\",\"hovertemplate\":\"Country/Region=%{location}<br>Valuation_num=%{marker.size}<extra></extra>\",\"legendgroup\":\"Canada\",\"locationmode\":\"country names\",\"locations\":[\"Canada\"],\"marker\":{\"color\":\"#FFA15A\",\"size\":[49],\"sizemode\":\"area\",\"sizeref\":0.18,\"symbol\":\"circle\"},\"mode\":\"markers\",\"name\":\"Canada\",\"showlegend\":true,\"type\":\"scattergeo\"},{\"geo\":\"geo\",\"hovertemplate\":\"Country/Region=%{location}<br>Valuation_num=%{marker.size}<extra></extra>\",\"legendgroup\":\"South Korea\",\"locationmode\":\"country names\",\"locations\":[\"South Korea\"],\"marker\":{\"color\":\"#19d3f3\",\"size\":[41],\"sizemode\":\"area\",\"sizeref\":0.18,\"symbol\":\"circle\"},\"mode\":\"markers\",\"name\":\"South Korea\",\"showlegend\":true,\"type\":\"scattergeo\"},{\"geo\":\"geo\",\"hovertemplate\":\"Country/Region=%{location}<br>Valuation_num=%{marker.size}<extra></extra>\",\"legendgroup\":\"Israel\",\"locationmode\":\"country names\",\"locations\":[\"Israel\"],\"marker\":{\"color\":\"#FF6692\",\"size\":[39],\"sizemode\":\"area\",\"sizeref\":0.18,\"symbol\":\"circle\"},\"mode\":\"markers\",\"name\":\"Israel\",\"showlegend\":true,\"type\":\"scattergeo\"},{\"geo\":\"geo\",\"hovertemplate\":\"Country/Region=%{location}<br>Valuation_num=%{marker.size}<extra></extra>\",\"legendgroup\":\"Brazil\",\"locationmode\":\"country names\",\"locations\":[\"Brazil\"],\"marker\":{\"color\":\"#B6E880\",\"size\":[37],\"sizemode\":\"area\",\"sizeref\":0.18,\"symbol\":\"circle\"},\"mode\":\"markers\",\"name\":\"Brazil\",\"showlegend\":true,\"type\":\"scattergeo\"},{\"geo\":\"geo\",\"hovertemplate\":\"Country/Region=%{location}<br>Valuation_num=%{marker.size}<extra></extra>\",\"legendgroup\":\"Bahamas\",\"locationmode\":\"country names\",\"locations\":[\"Bahamas\"],\"marker\":{\"color\":\"#FF97FF\",\"size\":[32],\"sizemode\":\"area\",\"sizeref\":0.18,\"symbol\":\"circle\"},\"mode\":\"markers\",\"name\":\"Bahamas\",\"showlegend\":true,\"type\":\"scattergeo\"},{\"geo\":\"geo\",\"hovertemplate\":\"Country/Region=%{location}<br>Valuation_num=%{marker.size}<extra></extra>\",\"legendgroup\":\"Indonesia\",\"locationmode\":\"country names\",\"locations\":[\"Indonesia\"],\"marker\":{\"color\":\"#FECB52\",\"size\":[28],\"sizemode\":\"area\",\"sizeref\":0.18,\"symbol\":\"circle\"},\"mode\":\"markers\",\"name\":\"Indonesia\",\"showlegend\":true,\"type\":\"scattergeo\"},{\"geo\":\"geo\",\"hovertemplate\":\"Country/Region=%{location}<br>Valuation_num=%{marker.size}<extra></extra>\",\"legendgroup\":\"Singapore\",\"locationmode\":\"country names\",\"locations\":[\"Singapore\"],\"marker\":{\"color\":\"#636efa\",\"size\":[21],\"sizemode\":\"area\",\"sizeref\":0.18,\"symbol\":\"circle\"},\"mode\":\"markers\",\"name\":\"Singapore\",\"showlegend\":true,\"type\":\"scattergeo\"},{\"geo\":\"geo\",\"hovertemplate\":\"Country/Region=%{location}<br>Valuation_num=%{marker.size}<extra></extra>\",\"legendgroup\":\"Netherlands\",\"locationmode\":\"country names\",\"locations\":[\"Netherlands\"],\"marker\":{\"color\":\"#EF553B\",\"size\":[19],\"sizemode\":\"area\",\"sizeref\":0.18,\"symbol\":\"circle\"},\"mode\":\"markers\",\"name\":\"Netherlands\",\"showlegend\":true,\"type\":\"scattergeo\"},{\"geo\":\"geo\",\"hovertemplate\":\"Country/Region=%{location}<br>Valuation_num=%{marker.size}<extra></extra>\",\"legendgroup\":\"Hong Kong\",\"locationmode\":\"country names\",\"locations\":[\"Hong Kong\"],\"marker\":{\"color\":\"#00cc96\",\"size\":[18],\"sizemode\":\"area\",\"sizeref\":0.18,\"symbol\":\"circle\"},\"mode\":\"markers\",\"name\":\"Hong Kong\",\"showlegend\":true,\"type\":\"scattergeo\"},{\"geo\":\"geo\",\"hovertemplate\":\"Country/Region=%{location}<br>Valuation_num=%{marker.size}<extra></extra>\",\"legendgroup\":\"Turkey\",\"locationmode\":\"country names\",\"locations\":[\"Turkey\"],\"marker\":{\"color\":\"#ab63fa\",\"size\":[16],\"sizemode\":\"area\",\"sizeref\":0.18,\"symbol\":\"circle\"},\"mode\":\"markers\",\"name\":\"Turkey\",\"showlegend\":true,\"type\":\"scattergeo\"},{\"geo\":\"geo\",\"hovertemplate\":\"Country/Region=%{location}<br>Valuation_num=%{marker.size}<extra></extra>\",\"legendgroup\":\"Mexico\",\"locationmode\":\"country names\",\"locations\":[\"Mexico\"],\"marker\":{\"color\":\"#FFA15A\",\"size\":[16],\"sizemode\":\"area\",\"sizeref\":0.18,\"symbol\":\"circle\"},\"mode\":\"markers\",\"name\":\"Mexico\",\"showlegend\":true,\"type\":\"scattergeo\"},{\"geo\":\"geo\",\"hovertemplate\":\"Country/Region=%{location}<br>Valuation_num=%{marker.size}<extra></extra>\",\"legendgroup\":\"Estonia\",\"locationmode\":\"country names\",\"locations\":[\"Estonia\"],\"marker\":{\"color\":\"#19d3f3\",\"size\":[13],\"sizemode\":\"area\",\"sizeref\":0.18,\"symbol\":\"circle\"},\"mode\":\"markers\",\"name\":\"Estonia\",\"showlegend\":true,\"type\":\"scattergeo\"},{\"geo\":\"geo\",\"hovertemplate\":\"Country/Region=%{location}<br>Valuation_num=%{marker.size}<extra></extra>\",\"legendgroup\":\"Finland\",\"locationmode\":\"country names\",\"locations\":[\"Finland\"],\"marker\":{\"color\":\"#FF6692\",\"size\":[12],\"sizemode\":\"area\",\"sizeref\":0.18,\"symbol\":\"circle\"},\"mode\":\"markers\",\"name\":\"Finland\",\"showlegend\":true,\"type\":\"scattergeo\"},{\"geo\":\"geo\",\"hovertemplate\":\"Country/Region=%{location}<br>Valuation_num=%{marker.size}<extra></extra>\",\"legendgroup\":\"Ireland\",\"locationmode\":\"country names\",\"locations\":[\"Ireland\"],\"marker\":{\"color\":\"#B6E880\",\"size\":[9],\"sizemode\":\"area\",\"sizeref\":0.18,\"symbol\":\"circle\"},\"mode\":\"markers\",\"name\":\"Ireland\",\"showlegend\":true,\"type\":\"scattergeo\"},{\"geo\":\"geo\",\"hovertemplate\":\"Country/Region=%{location}<br>Valuation_num=%{marker.size}<extra></extra>\",\"legendgroup\":\"Switzerland\",\"locationmode\":\"country names\",\"locations\":[\"Switzerland\"],\"marker\":{\"color\":\"#FF97FF\",\"size\":[8],\"sizemode\":\"area\",\"sizeref\":0.18,\"symbol\":\"circle\"},\"mode\":\"markers\",\"name\":\"Switzerland\",\"showlegend\":true,\"type\":\"scattergeo\"},{\"geo\":\"geo\",\"hovertemplate\":\"Country/Region=%{location}<br>Valuation_num=%{marker.size}<extra></extra>\",\"legendgroup\":\"Japan\",\"locationmode\":\"country names\",\"locations\":[\"Japan\"],\"marker\":{\"color\":\"#FECB52\",\"size\":[8],\"sizemode\":\"area\",\"sizeref\":0.18,\"symbol\":\"circle\"},\"mode\":\"markers\",\"name\":\"Japan\",\"showlegend\":true,\"type\":\"scattergeo\"},{\"geo\":\"geo\",\"hovertemplate\":\"Country/Region=%{location}<br>Valuation_num=%{marker.size}<extra></extra>\",\"legendgroup\":\"Belgium\",\"locationmode\":\"country names\",\"locations\":[\"Belgium\"],\"marker\":{\"color\":\"#636efa\",\"size\":[8],\"sizemode\":\"area\",\"sizeref\":0.18,\"symbol\":\"circle\"},\"mode\":\"markers\",\"name\":\"Belgium\",\"showlegend\":true,\"type\":\"scattergeo\"},{\"geo\":\"geo\",\"hovertemplate\":\"Country/Region=%{location}<br>Valuation_num=%{marker.size}<extra></extra>\",\"legendgroup\":\"Denmark\",\"locationmode\":\"country names\",\"locations\":[\"Denmark\"],\"marker\":{\"color\":\"#EF553B\",\"size\":[7],\"sizemode\":\"area\",\"sizeref\":0.18,\"symbol\":\"circle\"},\"mode\":\"markers\",\"name\":\"Denmark\",\"showlegend\":true,\"type\":\"scattergeo\"},{\"geo\":\"geo\",\"hovertemplate\":\"Country/Region=%{location}<br>Valuation_num=%{marker.size}<extra></extra>\",\"legendgroup\":\"Austria\",\"locationmode\":\"country names\",\"locations\":[\"Austria\"],\"marker\":{\"color\":\"#00cc96\",\"size\":[7],\"sizemode\":\"area\",\"sizeref\":0.18,\"symbol\":\"circle\"},\"mode\":\"markers\",\"name\":\"Austria\",\"showlegend\":true,\"type\":\"scattergeo\"},{\"geo\":\"geo\",\"hovertemplate\":\"Country/Region=%{location}<br>Valuation_num=%{marker.size}<extra></extra>\",\"legendgroup\":\"Colombia\",\"locationmode\":\"country names\",\"locations\":[\"Colombia\"],\"marker\":{\"color\":\"#ab63fa\",\"size\":[6],\"sizemode\":\"area\",\"sizeref\":0.18,\"symbol\":\"circle\"},\"mode\":\"markers\",\"name\":\"Colombia\",\"showlegend\":true,\"type\":\"scattergeo\"},{\"geo\":\"geo\",\"hovertemplate\":\"Country/Region=%{location}<br>Valuation_num=%{marker.size}<extra></extra>\",\"legendgroup\":\"Norway\",\"locationmode\":\"country names\",\"locations\":[\"Norway\"],\"marker\":{\"color\":\"#FFA15A\",\"size\":[5],\"sizemode\":\"area\",\"sizeref\":0.18,\"symbol\":\"circle\"},\"mode\":\"markers\",\"name\":\"Norway\",\"showlegend\":true,\"type\":\"scattergeo\"},{\"geo\":\"geo\",\"hovertemplate\":\"Country/Region=%{location}<br>Valuation_num=%{marker.size}<extra></extra>\",\"legendgroup\":\"Vietnam\",\"locationmode\":\"country names\",\"locations\":[\"Vietnam\"],\"marker\":{\"color\":\"#19d3f3\",\"size\":[5],\"sizemode\":\"area\",\"sizeref\":0.18,\"symbol\":\"circle\"},\"mode\":\"markers\",\"name\":\"Vietnam\",\"showlegend\":true,\"type\":\"scattergeo\"},{\"geo\":\"geo\",\"hovertemplate\":\"Country/Region=%{location}<br>Valuation_num=%{marker.size}<extra></extra>\",\"legendgroup\":\"Lithuania\",\"locationmode\":\"country names\",\"locations\":[\"Lithuania\"],\"marker\":{\"color\":\"#FF6692\",\"size\":[5],\"sizemode\":\"area\",\"sizeref\":0.18,\"symbol\":\"circle\"},\"mode\":\"markers\",\"name\":\"Lithuania\",\"showlegend\":true,\"type\":\"scattergeo\"},{\"geo\":\"geo\",\"hovertemplate\":\"Country/Region=%{location}<br>Valuation_num=%{marker.size}<extra></extra>\",\"legendgroup\":\"United Arab Emirates\",\"locationmode\":\"country names\",\"locations\":[\"United Arab Emirates\"],\"marker\":{\"color\":\"#B6E880\",\"size\":[5],\"sizemode\":\"area\",\"sizeref\":0.18,\"symbol\":\"circle\"},\"mode\":\"markers\",\"name\":\"United Arab Emirates\",\"showlegend\":true,\"type\":\"scattergeo\"},{\"geo\":\"geo\",\"hovertemplate\":\"Country/Region=%{location}<br>Valuation_num=%{marker.size}<extra></extra>\",\"legendgroup\":\"Spain\",\"locationmode\":\"country names\",\"locations\":[\"Spain\"],\"marker\":{\"color\":\"#FF97FF\",\"size\":[4],\"sizemode\":\"area\",\"sizeref\":0.18,\"symbol\":\"circle\"},\"mode\":\"markers\",\"name\":\"Spain\",\"showlegend\":true,\"type\":\"scattergeo\"},{\"geo\":\"geo\",\"hovertemplate\":\"Country/Region=%{location}<br>Valuation_num=%{marker.size}<extra></extra>\",\"legendgroup\":\"Chile\",\"locationmode\":\"country names\",\"locations\":[\"Chile\"],\"marker\":{\"color\":\"#FECB52\",\"size\":[3],\"sizemode\":\"area\",\"sizeref\":0.18,\"symbol\":\"circle\"},\"mode\":\"markers\",\"name\":\"Chile\",\"showlegend\":true,\"type\":\"scattergeo\"},{\"geo\":\"geo\",\"hovertemplate\":\"Country/Region=%{location}<br>Valuation_num=%{marker.size}<extra></extra>\",\"legendgroup\":\"Philippines\",\"locationmode\":\"country names\",\"locations\":[\"Philippines\"],\"marker\":{\"color\":\"#636efa\",\"size\":[3],\"sizemode\":\"area\",\"sizeref\":0.18,\"symbol\":\"circle\"},\"mode\":\"markers\",\"name\":\"Philippines\",\"showlegend\":true,\"type\":\"scattergeo\"},{\"geo\":\"geo\",\"hovertemplate\":\"Country/Region=%{location}<br>Valuation_num=%{marker.size}<extra></extra>\",\"legendgroup\":\"South Africa\",\"locationmode\":\"country names\",\"locations\":[\"South Africa\"],\"marker\":{\"color\":\"#EF553B\",\"size\":[3],\"sizemode\":\"area\",\"sizeref\":0.18,\"symbol\":\"circle\"},\"mode\":\"markers\",\"name\":\"South Africa\",\"showlegend\":true,\"type\":\"scattergeo\"},{\"geo\":\"geo\",\"hovertemplate\":\"Country/Region=%{location}<br>Valuation_num=%{marker.size}<extra></extra>\",\"legendgroup\":\"Thailand\",\"locationmode\":\"country names\",\"locations\":[\"Thailand\"],\"marker\":{\"color\":\"#00cc96\",\"size\":[3],\"sizemode\":\"area\",\"sizeref\":0.18,\"symbol\":\"circle\"},\"mode\":\"markers\",\"name\":\"Thailand\",\"showlegend\":true,\"type\":\"scattergeo\"},{\"geo\":\"geo\",\"hovertemplate\":\"Country/Region=%{location}<br>Valuation_num=%{marker.size}<extra></extra>\",\"legendgroup\":\"Argentina\",\"locationmode\":\"country names\",\"locations\":[\"Argentina\"],\"marker\":{\"color\":\"#ab63fa\",\"size\":[2],\"sizemode\":\"area\",\"sizeref\":0.18,\"symbol\":\"circle\"},\"mode\":\"markers\",\"name\":\"Argentina\",\"showlegend\":true,\"type\":\"scattergeo\"},{\"geo\":\"geo\",\"hovertemplate\":\"Country/Region=%{location}<br>Valuation_num=%{marker.size}<extra></extra>\",\"legendgroup\":\"Senegal\",\"locationmode\":\"country names\",\"locations\":[\"Senegal\"],\"marker\":{\"color\":\"#FFA15A\",\"size\":[2],\"sizemode\":\"area\",\"sizeref\":0.18,\"symbol\":\"circle\"},\"mode\":\"markers\",\"name\":\"Senegal\",\"showlegend\":true,\"type\":\"scattergeo\"},{\"geo\":\"geo\",\"hovertemplate\":\"Country/Region=%{location}<br>Valuation_num=%{marker.size}<extra></extra>\",\"legendgroup\":\"Nigeria\",\"locationmode\":\"country names\",\"locations\":[\"Nigeria\"],\"marker\":{\"color\":\"#19d3f3\",\"size\":[2],\"sizemode\":\"area\",\"sizeref\":0.18,\"symbol\":\"circle\"},\"mode\":\"markers\",\"name\":\"Nigeria\",\"showlegend\":true,\"type\":\"scattergeo\"},{\"geo\":\"geo\",\"hovertemplate\":\"Country/Region=%{location}<br>Valuation_num=%{marker.size}<extra></extra>\",\"legendgroup\":\"Malaysia\",\"locationmode\":\"country names\",\"locations\":[\"Malaysia\"],\"marker\":{\"color\":\"#FF6692\",\"size\":[2],\"sizemode\":\"area\",\"sizeref\":0.18,\"symbol\":\"circle\"},\"mode\":\"markers\",\"name\":\"Malaysia\",\"showlegend\":true,\"type\":\"scattergeo\"},{\"geo\":\"geo\",\"hovertemplate\":\"Country/Region=%{location}<br>Valuation_num=%{marker.size}<extra></extra>\",\"legendgroup\":\"Luxembourg\",\"locationmode\":\"country names\",\"locations\":[\"Luxembourg\"],\"marker\":{\"color\":\"#B6E880\",\"size\":[2],\"sizemode\":\"area\",\"sizeref\":0.18,\"symbol\":\"circle\"},\"mode\":\"markers\",\"name\":\"Luxembourg\",\"showlegend\":true,\"type\":\"scattergeo\"},{\"geo\":\"geo\",\"hovertemplate\":\"Country/Region=%{location}<br>Valuation_num=%{marker.size}<extra></extra>\",\"legendgroup\":\"Bermuda\",\"locationmode\":\"country names\",\"locations\":[\"Bermuda\"],\"marker\":{\"color\":\"#FF97FF\",\"size\":[2],\"sizemode\":\"area\",\"sizeref\":0.18,\"symbol\":\"circle\"},\"mode\":\"markers\",\"name\":\"Bermuda\",\"showlegend\":true,\"type\":\"scattergeo\"},{\"geo\":\"geo\",\"hovertemplate\":\"Country/Region=%{location}<br>Valuation_num=%{marker.size}<extra></extra>\",\"legendgroup\":\"Czech Republic\",\"locationmode\":\"country names\",\"locations\":[\"Czech Republic\"],\"marker\":{\"color\":\"#FECB52\",\"size\":[1],\"sizemode\":\"area\",\"sizeref\":0.18,\"symbol\":\"circle\"},\"mode\":\"markers\",\"name\":\"Czech Republic\",\"showlegend\":true,\"type\":\"scattergeo\"},{\"geo\":\"geo\",\"hovertemplate\":\"Country/Region=%{location}<br>Valuation_num=%{marker.size}<extra></extra>\",\"legendgroup\":\"Croatia\",\"locationmode\":\"country names\",\"locations\":[\"Croatia\"],\"marker\":{\"color\":\"#636efa\",\"size\":[1],\"sizemode\":\"area\",\"sizeref\":0.18,\"symbol\":\"circle\"},\"mode\":\"markers\",\"name\":\"Croatia\",\"showlegend\":true,\"type\":\"scattergeo\"},{\"geo\":\"geo\",\"hovertemplate\":\"Country/Region=%{location}<br>Valuation_num=%{marker.size}<extra></extra>\",\"legendgroup\":\"Italy\",\"locationmode\":\"country names\",\"locations\":[\"Italy\"],\"marker\":{\"color\":\"#EF553B\",\"size\":[1],\"sizemode\":\"area\",\"sizeref\":0.18,\"symbol\":\"circle\"},\"mode\":\"markers\",\"name\":\"Italy\",\"showlegend\":true,\"type\":\"scattergeo\"}],                        {\"template\":{\"data\":{\"histogram2dcontour\":[{\"type\":\"histogram2dcontour\",\"colorbar\":{\"outlinewidth\":0,\"ticks\":\"\"},\"colorscale\":[[0.0,\"#0d0887\"],[0.1111111111111111,\"#46039f\"],[0.2222222222222222,\"#7201a8\"],[0.3333333333333333,\"#9c179e\"],[0.4444444444444444,\"#bd3786\"],[0.5555555555555556,\"#d8576b\"],[0.6666666666666666,\"#ed7953\"],[0.7777777777777778,\"#fb9f3a\"],[0.8888888888888888,\"#fdca26\"],[1.0,\"#f0f921\"]]}],\"choropleth\":[{\"type\":\"choropleth\",\"colorbar\":{\"outlinewidth\":0,\"ticks\":\"\"}}],\"histogram2d\":[{\"type\":\"histogram2d\",\"colorbar\":{\"outlinewidth\":0,\"ticks\":\"\"},\"colorscale\":[[0.0,\"#0d0887\"],[0.1111111111111111,\"#46039f\"],[0.2222222222222222,\"#7201a8\"],[0.3333333333333333,\"#9c179e\"],[0.4444444444444444,\"#bd3786\"],[0.5555555555555556,\"#d8576b\"],[0.6666666666666666,\"#ed7953\"],[0.7777777777777778,\"#fb9f3a\"],[0.8888888888888888,\"#fdca26\"],[1.0,\"#f0f921\"]]}],\"heatmap\":[{\"type\":\"heatmap\",\"colorbar\":{\"outlinewidth\":0,\"ticks\":\"\"},\"colorscale\":[[0.0,\"#0d0887\"],[0.1111111111111111,\"#46039f\"],[0.2222222222222222,\"#7201a8\"],[0.3333333333333333,\"#9c179e\"],[0.4444444444444444,\"#bd3786\"],[0.5555555555555556,\"#d8576b\"],[0.6666666666666666,\"#ed7953\"],[0.7777777777777778,\"#fb9f3a\"],[0.8888888888888888,\"#fdca26\"],[1.0,\"#f0f921\"]]}],\"heatmapgl\":[{\"type\":\"heatmapgl\",\"colorbar\":{\"outlinewidth\":0,\"ticks\":\"\"},\"colorscale\":[[0.0,\"#0d0887\"],[0.1111111111111111,\"#46039f\"],[0.2222222222222222,\"#7201a8\"],[0.3333333333333333,\"#9c179e\"],[0.4444444444444444,\"#bd3786\"],[0.5555555555555556,\"#d8576b\"],[0.6666666666666666,\"#ed7953\"],[0.7777777777777778,\"#fb9f3a\"],[0.8888888888888888,\"#fdca26\"],[1.0,\"#f0f921\"]]}],\"contourcarpet\":[{\"type\":\"contourcarpet\",\"colorbar\":{\"outlinewidth\":0,\"ticks\":\"\"}}],\"contour\":[{\"type\":\"contour\",\"colorbar\":{\"outlinewidth\":0,\"ticks\":\"\"},\"colorscale\":[[0.0,\"#0d0887\"],[0.1111111111111111,\"#46039f\"],[0.2222222222222222,\"#7201a8\"],[0.3333333333333333,\"#9c179e\"],[0.4444444444444444,\"#bd3786\"],[0.5555555555555556,\"#d8576b\"],[0.6666666666666666,\"#ed7953\"],[0.7777777777777778,\"#fb9f3a\"],[0.8888888888888888,\"#fdca26\"],[1.0,\"#f0f921\"]]}],\"surface\":[{\"type\":\"surface\",\"colorbar\":{\"outlinewidth\":0,\"ticks\":\"\"},\"colorscale\":[[0.0,\"#0d0887\"],[0.1111111111111111,\"#46039f\"],[0.2222222222222222,\"#7201a8\"],[0.3333333333333333,\"#9c179e\"],[0.4444444444444444,\"#bd3786\"],[0.5555555555555556,\"#d8576b\"],[0.6666666666666666,\"#ed7953\"],[0.7777777777777778,\"#fb9f3a\"],[0.8888888888888888,\"#fdca26\"],[1.0,\"#f0f921\"]]}],\"mesh3d\":[{\"type\":\"mesh3d\",\"colorbar\":{\"outlinewidth\":0,\"ticks\":\"\"}}],\"scatter\":[{\"fillpattern\":{\"fillmode\":\"overlay\",\"size\":10,\"solidity\":0.2},\"type\":\"scatter\"}],\"parcoords\":[{\"type\":\"parcoords\",\"line\":{\"colorbar\":{\"outlinewidth\":0,\"ticks\":\"\"}}}],\"scatterpolargl\":[{\"type\":\"scatterpolargl\",\"marker\":{\"colorbar\":{\"outlinewidth\":0,\"ticks\":\"\"}}}],\"bar\":[{\"error_x\":{\"color\":\"#2a3f5f\"},\"error_y\":{\"color\":\"#2a3f5f\"},\"marker\":{\"line\":{\"color\":\"#E5ECF6\",\"width\":0.5},\"pattern\":{\"fillmode\":\"overlay\",\"size\":10,\"solidity\":0.2}},\"type\":\"bar\"}],\"scattergeo\":[{\"type\":\"scattergeo\",\"marker\":{\"colorbar\":{\"outlinewidth\":0,\"ticks\":\"\"}}}],\"scatterpolar\":[{\"type\":\"scatterpolar\",\"marker\":{\"colorbar\":{\"outlinewidth\":0,\"ticks\":\"\"}}}],\"histogram\":[{\"marker\":{\"pattern\":{\"fillmode\":\"overlay\",\"size\":10,\"solidity\":0.2}},\"type\":\"histogram\"}],\"scattergl\":[{\"type\":\"scattergl\",\"marker\":{\"colorbar\":{\"outlinewidth\":0,\"ticks\":\"\"}}}],\"scatter3d\":[{\"type\":\"scatter3d\",\"line\":{\"colorbar\":{\"outlinewidth\":0,\"ticks\":\"\"}},\"marker\":{\"colorbar\":{\"outlinewidth\":0,\"ticks\":\"\"}}}],\"scattermapbox\":[{\"type\":\"scattermapbox\",\"marker\":{\"colorbar\":{\"outlinewidth\":0,\"ticks\":\"\"}}}],\"scatterternary\":[{\"type\":\"scatterternary\",\"marker\":{\"colorbar\":{\"outlinewidth\":0,\"ticks\":\"\"}}}],\"scattercarpet\":[{\"type\":\"scattercarpet\",\"marker\":{\"colorbar\":{\"outlinewidth\":0,\"ticks\":\"\"}}}],\"carpet\":[{\"aaxis\":{\"endlinecolor\":\"#2a3f5f\",\"gridcolor\":\"white\",\"linecolor\":\"white\",\"minorgridcolor\":\"white\",\"startlinecolor\":\"#2a3f5f\"},\"baxis\":{\"endlinecolor\":\"#2a3f5f\",\"gridcolor\":\"white\",\"linecolor\":\"white\",\"minorgridcolor\":\"white\",\"startlinecolor\":\"#2a3f5f\"},\"type\":\"carpet\"}],\"table\":[{\"cells\":{\"fill\":{\"color\":\"#EBF0F8\"},\"line\":{\"color\":\"white\"}},\"header\":{\"fill\":{\"color\":\"#C8D4E3\"},\"line\":{\"color\":\"white\"}},\"type\":\"table\"}],\"barpolar\":[{\"marker\":{\"line\":{\"color\":\"#E5ECF6\",\"width\":0.5},\"pattern\":{\"fillmode\":\"overlay\",\"size\":10,\"solidity\":0.2}},\"type\":\"barpolar\"}],\"pie\":[{\"automargin\":true,\"type\":\"pie\"}]},\"layout\":{\"autotypenumbers\":\"strict\",\"colorway\":[\"#636efa\",\"#EF553B\",\"#00cc96\",\"#ab63fa\",\"#FFA15A\",\"#19d3f3\",\"#FF6692\",\"#B6E880\",\"#FF97FF\",\"#FECB52\"],\"font\":{\"color\":\"#2a3f5f\"},\"hovermode\":\"closest\",\"hoverlabel\":{\"align\":\"left\"},\"paper_bgcolor\":\"white\",\"plot_bgcolor\":\"#E5ECF6\",\"polar\":{\"bgcolor\":\"#E5ECF6\",\"angularaxis\":{\"gridcolor\":\"white\",\"linecolor\":\"white\",\"ticks\":\"\"},\"radialaxis\":{\"gridcolor\":\"white\",\"linecolor\":\"white\",\"ticks\":\"\"}},\"ternary\":{\"bgcolor\":\"#E5ECF6\",\"aaxis\":{\"gridcolor\":\"white\",\"linecolor\":\"white\",\"ticks\":\"\"},\"baxis\":{\"gridcolor\":\"white\",\"linecolor\":\"white\",\"ticks\":\"\"},\"caxis\":{\"gridcolor\":\"white\",\"linecolor\":\"white\",\"ticks\":\"\"}},\"coloraxis\":{\"colorbar\":{\"outlinewidth\":0,\"ticks\":\"\"}},\"colorscale\":{\"sequential\":[[0.0,\"#0d0887\"],[0.1111111111111111,\"#46039f\"],[0.2222222222222222,\"#7201a8\"],[0.3333333333333333,\"#9c179e\"],[0.4444444444444444,\"#bd3786\"],[0.5555555555555556,\"#d8576b\"],[0.6666666666666666,\"#ed7953\"],[0.7777777777777778,\"#fb9f3a\"],[0.8888888888888888,\"#fdca26\"],[1.0,\"#f0f921\"]],\"sequentialminus\":[[0.0,\"#0d0887\"],[0.1111111111111111,\"#46039f\"],[0.2222222222222222,\"#7201a8\"],[0.3333333333333333,\"#9c179e\"],[0.4444444444444444,\"#bd3786\"],[0.5555555555555556,\"#d8576b\"],[0.6666666666666666,\"#ed7953\"],[0.7777777777777778,\"#fb9f3a\"],[0.8888888888888888,\"#fdca26\"],[1.0,\"#f0f921\"]],\"diverging\":[[0,\"#8e0152\"],[0.1,\"#c51b7d\"],[0.2,\"#de77ae\"],[0.3,\"#f1b6da\"],[0.4,\"#fde0ef\"],[0.5,\"#f7f7f7\"],[0.6,\"#e6f5d0\"],[0.7,\"#b8e186\"],[0.8,\"#7fbc41\"],[0.9,\"#4d9221\"],[1,\"#276419\"]]},\"xaxis\":{\"gridcolor\":\"white\",\"linecolor\":\"white\",\"ticks\":\"\",\"title\":{\"standoff\":15},\"zerolinecolor\":\"white\",\"automargin\":true,\"zerolinewidth\":2},\"yaxis\":{\"gridcolor\":\"white\",\"linecolor\":\"white\",\"ticks\":\"\",\"title\":{\"standoff\":15},\"zerolinecolor\":\"white\",\"automargin\":true,\"zerolinewidth\":2},\"scene\":{\"xaxis\":{\"backgroundcolor\":\"#E5ECF6\",\"gridcolor\":\"white\",\"linecolor\":\"white\",\"showbackground\":true,\"ticks\":\"\",\"zerolinecolor\":\"white\",\"gridwidth\":2},\"yaxis\":{\"backgroundcolor\":\"#E5ECF6\",\"gridcolor\":\"white\",\"linecolor\":\"white\",\"showbackground\":true,\"ticks\":\"\",\"zerolinecolor\":\"white\",\"gridwidth\":2},\"zaxis\":{\"backgroundcolor\":\"#E5ECF6\",\"gridcolor\":\"white\",\"linecolor\":\"white\",\"showbackground\":true,\"ticks\":\"\",\"zerolinecolor\":\"white\",\"gridwidth\":2}},\"shapedefaults\":{\"line\":{\"color\":\"#2a3f5f\"}},\"annotationdefaults\":{\"arrowcolor\":\"#2a3f5f\",\"arrowhead\":0,\"arrowwidth\":1},\"geo\":{\"bgcolor\":\"white\",\"landcolor\":\"#E5ECF6\",\"subunitcolor\":\"white\",\"showland\":true,\"showlakes\":true,\"lakecolor\":\"white\"},\"title\":{\"x\":0.05},\"mapbox\":{\"style\":\"light\"}}},\"geo\":{\"domain\":{\"x\":[0.0,1.0],\"y\":[0.0,1.0]},\"center\":{}},\"legend\":{\"title\":{\"text\":\"Country/Region\"},\"tracegroupgap\":0,\"itemsizing\":\"constant\"},\"title\":{\"text\":\"Total company valuations by country (non-big-four)\"}},                        {\"responsive\": true}                    ).then(function(){\n",
       "                            \n",
       "var gd = document.getElementById('bddb041a-9406-4ab8-88b7-6d2058237054');\n",
       "var x = new MutationObserver(function (mutations, observer) {{\n",
       "        var display = window.getComputedStyle(gd).display;\n",
       "        if (!display || display === 'none') {{\n",
       "            console.log([gd, 'removed!']);\n",
       "            Plotly.purge(gd);\n",
       "            observer.disconnect();\n",
       "        }}\n",
       "}});\n",
       "\n",
       "// Listen for the removal of the full notebook cells\n",
       "var notebookContainer = gd.closest('#notebook-container');\n",
       "if (notebookContainer) {{\n",
       "    x.observe(notebookContainer, {childList: true});\n",
       "}}\n",
       "\n",
       "// Listen for the clearing of the current output cell\n",
       "var outputEl = gd.closest('.output');\n",
       "if (outputEl) {{\n",
       "    x.observe(outputEl, {childList: true});\n",
       "}}\n",
       "\n",
       "                        })                };                });            </script>        </div>"
      ]
     },
     "metadata": {},
     "output_type": "display_data"
    }
   ],
   "source": [
    "# Plot the sum of valuations per country.\n",
    "\n",
    "data = national_valuation_no_big4\n",
    "\n",
    "px.scatter_geo(data, \n",
    "               locations='Country/Region', \n",
    "               size='Valuation_num', \n",
    "               locationmode='country names', \n",
    "               color='Country/Region',\n",
    "               title='Total company valuations by country (non-big-four)')\n"
   ]
  },
  {
   "cell_type": "code",
   "execution_count": null,
   "id": "3d6dc3fc",
   "metadata": {},
   "outputs": [],
   "source": []
  }
 ],
 "metadata": {
  "kernelspec": {
   "display_name": "Python 3 (ipykernel)",
   "language": "python",
   "name": "python3"
  },
  "language_info": {
   "codemirror_mode": {
    "name": "ipython",
    "version": 3
   },
   "file_extension": ".py",
   "mimetype": "text/x-python",
   "name": "python",
   "nbconvert_exporter": "python",
   "pygments_lexer": "ipython3",
   "version": "3.11.8"
  }
 },
 "nbformat": 4,
 "nbformat_minor": 5
}
